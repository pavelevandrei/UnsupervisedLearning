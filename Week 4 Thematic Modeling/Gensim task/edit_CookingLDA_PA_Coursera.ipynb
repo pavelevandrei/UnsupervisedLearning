{
 "cells": [
  {
   "cell_type": "markdown",
   "metadata": {},
   "source": [
    "# Programming Assignment: \n",
    "## Готовим LDA по рецептам"
   ]
  },
  {
   "cell_type": "markdown",
   "metadata": {},
   "source": [
    "Как вы уже знаете, в тематическом моделировании делается предположение о том, что для определения тематики порядок слов в документе не важен; об этом гласит гипотеза «мешка слов». Сегодня мы будем работать с несколько нестандартной для тематического моделирования коллекцией, которую можно назвать «мешком ингредиентов», потому что на состоит из рецептов блюд разных кухонь. Тематические модели ищут слова, которые часто вместе встречаются в документах, и составляют из них темы. Мы попробуем применить эту идею к рецептам и найти кулинарные «темы». Эта коллекция хороша тем, что не требует предобработки. Кроме того, эта задача достаточно наглядно иллюстрирует принцип работы тематических моделей.\n",
    "\n",
    "Для выполнения заданий, помимо часто используемых в курсе библиотек, потребуются модули *json* и *gensim*. Первый входит в дистрибутив Anaconda, второй можно поставить командой \n",
    "\n",
    "*pip install gensim*\n",
    "\n",
    "Построение модели занимает некоторое время. На ноутбуке с процессором Intel Core i7 и тактовой частотой 2400 МГц на построение одной модели уходит менее 10 минут."
   ]
  },
  {
   "cell_type": "markdown",
   "metadata": {},
   "source": [
    "### Загрузка данных"
   ]
  },
  {
   "cell_type": "markdown",
   "metadata": {},
   "source": [
    "Коллекция дана в json-формате: для каждого рецепта известны его id, кухня (cuisine) и список ингредиентов, в него входящих. Загрузить данные можно с помощью модуля json (он входит в дистрибутив Anaconda):"
   ]
  },
  {
   "cell_type": "code",
   "execution_count": 1,
   "metadata": {},
   "outputs": [],
   "source": [
    "import json"
   ]
  },
  {
   "cell_type": "code",
   "execution_count": 2,
   "metadata": {},
   "outputs": [],
   "source": [
    "with open(\"recipes.json\") as f:\n",
    "    recipes = json.load(f)"
   ]
  },
  {
   "cell_type": "code",
   "execution_count": 3,
   "metadata": {},
   "outputs": [
    {
     "name": "stdout",
     "output_type": "stream",
     "text": [
      "{'id': 10259, 'cuisine': 'greek', 'ingredients': ['romaine lettuce', 'black olives', 'grape tomatoes', 'garlic', 'pepper', 'purple onion', 'seasoning', 'garbanzo beans', 'feta cheese crumbles']}\n"
     ]
    }
   ],
   "source": [
    "print(recipes[0])"
   ]
  },
  {
   "cell_type": "markdown",
   "metadata": {},
   "source": [
    "### Составление корпуса"
   ]
  },
  {
   "cell_type": "code",
   "execution_count": 4,
   "metadata": {},
   "outputs": [],
   "source": [
    "from gensim import corpora, models\n",
    "import numpy as np"
   ]
  },
  {
   "cell_type": "markdown",
   "metadata": {},
   "source": [
    "Наша коллекция небольшая, и целиком помещается в оперативную память. Gensim может работать с такими данными и не требует их сохранения на диск в специальном формате. Для этого коллекция должна быть представлена в виде списка списков, каждый внутренний список соответствует отдельному документу и состоит из его слов. Пример коллекции из двух документов: \n",
    "\n",
    "[[\"hello\", \"world\"], [\"programming\", \"in\", \"python\"]]\n",
    "\n",
    "Преобразуем наши данные в такой формат, а затем создадим объекты corpus и dictionary, с которыми будет работать модель."
   ]
  },
  {
   "cell_type": "code",
   "execution_count": 44,
   "metadata": {},
   "outputs": [],
   "source": [
    "texts = [recipe[\"ingredients\"] for recipe in recipes]\n",
    "dictionary = corpora.Dictionary(texts)   # составляем словарь\n",
    "corpus = [dictionary.doc2bow(text) for text in texts]  # составляем корпус документов"
   ]
  },
  {
   "cell_type": "code",
   "execution_count": 6,
   "metadata": {},
   "outputs": [
    {
     "name": "stdout",
     "output_type": "stream",
     "text": [
      "['romaine lettuce', 'black olives', 'grape tomatoes', 'garlic', 'pepper', 'purple onion', 'seasoning', 'garbanzo beans', 'feta cheese crumbles']\n",
      "[(0, 1), (1, 1), (2, 1), (3, 1), (4, 1), (5, 1), (6, 1), (7, 1), (8, 1)]\n"
     ]
    }
   ],
   "source": [
    "print(texts[0])\n",
    "print(corpus[0])"
   ]
  },
  {
   "cell_type": "markdown",
   "metadata": {},
   "source": [
    "У объекта dictionary есть полезная переменная dictionary.token2id, позволяющая находить соответствие между ингредиентами и их индексами."
   ]
  },
  {
   "cell_type": "markdown",
   "metadata": {},
   "source": [
    "### Обучение модели\n",
    "Вам может понадобиться [документация](https://radimrehurek.com/gensim/models/ldamodel.html) LDA в gensim."
   ]
  },
  {
   "cell_type": "markdown",
   "metadata": {},
   "source": [
    "__Задание 1.__ Обучите модель LDA с 40 темами, установив количество проходов по коллекции 5 и оставив остальные параметры по умолчанию. \n",
    "\n",
    "\n",
    "Затем вызовите метод модели *show_topics*, указав количество тем 40 и количество токенов 10, и сохраните результат (топы ингредиентов в темах) в отдельную переменную. Если при вызове метода *show_topics* указать параметр *formatted=True*, то топы ингредиентов будет удобно выводить на печать, если *formatted=False*, будет удобно работать со списком программно. Выведите топы на печать, рассмотрите темы, а затем ответьте на вопрос:\n",
    "\n",
    "Сколько раз ингредиенты \"salt\", \"sugar\", \"water\", \"mushrooms\", \"chicken\", \"eggs\" встретились среди топов-10 всех 40 тем? При ответе __не нужно__ учитывать составные ингредиенты, например, \"hot water\".\n",
    "\n",
    "Передайте 6 чисел в функцию save_answers1 и загрузите сгенерированный файл в форму.\n",
    "\n",
    "У gensim нет возможности фиксировать случайное приближение через параметры метода, но библиотека использует numpy для инициализации матриц. Поэтому, по утверждению автора библиотеки, фиксировать случайное приближение нужно командой, которая написана в следующей ячейке. __Перед строкой кода с построением модели обязательно вставляйте указанную строку фиксации random.seed.__"
   ]
  },
  {
   "cell_type": "code",
   "execution_count": 7,
   "metadata": {},
   "outputs": [
    {
     "name": "stdout",
     "output_type": "stream",
     "text": [
      "CPU times: user 2 µs, sys: 1 µs, total: 3 µs\n",
      "Wall time: 5.72 µs\n"
     ]
    }
   ],
   "source": [
    "np.random.seed(76543)\n",
    "# здесь код для построения модели:\n",
    "%time \n",
    "ldamodel = models.ldamodel.LdaModel(corpus, id2word=dictionary, num_topics=40, passes=5)"
   ]
  },
  {
   "cell_type": "code",
   "execution_count": 14,
   "metadata": {},
   "outputs": [
    {
     "data": {
      "text/plain": [
       "[(0,\n",
       "  [('chopped onion', 0.10505023),\n",
       "   ('garlic cloves', 0.08319366),\n",
       "   ('salt', 0.064060986),\n",
       "   ('fat free less sodium chicken broth', 0.054453645),\n",
       "   ('sliced green onions', 0.047649045),\n",
       "   ('cooking spray', 0.04730394),\n",
       "   ('ground red pepper', 0.045741487),\n",
       "   ('water', 0.044467505),\n",
       "   ('spinach', 0.03779419),\n",
       "   ('black pepper', 0.030718207)]),\n",
       " (1,\n",
       "  [('corn kernels', 0.1016672),\n",
       "   ('diced onions', 0.08647486),\n",
       "   ('tortillas', 0.072400495),\n",
       "   ('vegetable stock', 0.06654914),\n",
       "   ('chopped fresh chives', 0.049960263),\n",
       "   ('sliced black olives', 0.049527477),\n",
       "   ('cream cheese, soften', 0.048064902),\n",
       "   ('lard', 0.04360961),\n",
       "   ('jack cheese', 0.034592032),\n",
       "   ('canned black beans', 0.024382187)]),\n",
       " (2,\n",
       "  [('olive oil', 0.08690875),\n",
       "   ('crushed red pepper', 0.06032807),\n",
       "   ('fresh parsley', 0.054445054),\n",
       "   ('garlic cloves', 0.041661426),\n",
       "   ('grated parmesan cheese', 0.039159097),\n",
       "   ('cherry tomatoes', 0.03554973),\n",
       "   ('butter', 0.03502415),\n",
       "   ('low salt chicken broth', 0.034138083),\n",
       "   ('salt', 0.033922013),\n",
       "   ('fresh rosemary', 0.032497365)]),\n",
       " (3,\n",
       "  [('bacon', 0.07368979),\n",
       "   ('salt', 0.07028506),\n",
       "   ('red pepper flakes', 0.06111937),\n",
       "   ('onions', 0.05398661),\n",
       "   ('garlic', 0.050939217),\n",
       "   ('ground black pepper', 0.04841495),\n",
       "   ('mushrooms', 0.04372037),\n",
       "   ('chicken thighs', 0.042565767),\n",
       "   ('pasta', 0.04162535),\n",
       "   ('olive oil', 0.034110077)]),\n",
       " (4,\n",
       "  [('cooking spray', 0.0894384),\n",
       "   ('salt', 0.06688841),\n",
       "   ('powdered sugar', 0.060639795),\n",
       "   ('large egg whites', 0.056755807),\n",
       "   ('all-purpose flour', 0.05420655),\n",
       "   ('sugar', 0.05130362),\n",
       "   ('large eggs', 0.049081575),\n",
       "   ('cream cheese', 0.04450051),\n",
       "   ('yellow corn meal', 0.04355411),\n",
       "   ('butter', 0.041908715)]),\n",
       " (5,\n",
       "  [('large garlic cloves', 0.09251758),\n",
       "   ('shallots', 0.09177561),\n",
       "   ('dry white wine', 0.07519238),\n",
       "   ('olive oil', 0.05602482),\n",
       "   ('finely chopped onion', 0.04477994),\n",
       "   ('unsalted butter', 0.033507694),\n",
       "   ('salt', 0.033133745),\n",
       "   ('white wine vinegar', 0.031849537),\n",
       "   ('arborio rice', 0.030460343),\n",
       "   ('saffron threads', 0.026549255)]),\n",
       " (6,\n",
       "  [('fresh thyme', 0.07845692),\n",
       "   ('dry red wine', 0.077528566),\n",
       "   ('pork tenderloin', 0.05275526),\n",
       "   ('reduced sodium soy sauce', 0.04703689),\n",
       "   ('cilantro sprigs', 0.046502557),\n",
       "   ('beef broth', 0.042624444),\n",
       "   ('peppercorns', 0.036360253),\n",
       "   ('cremini mushrooms', 0.032237936),\n",
       "   ('rosemary', 0.023047946),\n",
       "   ('daikon', 0.022710964)]),\n",
       " (7,\n",
       "  [('soy sauce', 0.09181844),\n",
       "   ('sesame oil', 0.05152344),\n",
       "   ('scallions', 0.04359197),\n",
       "   ('green onions', 0.042537313),\n",
       "   ('rice vinegar', 0.04108496),\n",
       "   ('sugar', 0.039460275),\n",
       "   ('corn starch', 0.03628087),\n",
       "   ('garlic', 0.035275258),\n",
       "   ('vegetable oil', 0.03368009),\n",
       "   ('fresh ginger', 0.02698791)]),\n",
       " (8,\n",
       "  [('garlic powder', 0.1751933),\n",
       "   ('cayenne pepper', 0.12346794),\n",
       "   ('onion powder', 0.065727286),\n",
       "   ('ground black pepper', 0.04669612),\n",
       "   ('smoked paprika', 0.04361347),\n",
       "   ('black pepper', 0.040757444),\n",
       "   ('pinenuts', 0.040123392),\n",
       "   ('salt', 0.037691053),\n",
       "   ('fresh spinach', 0.025844648),\n",
       "   ('dried oregano', 0.025344675)]),\n",
       " (9,\n",
       "  [('extra-virgin olive oil', 0.11401019),\n",
       "   ('garlic cloves', 0.06688214),\n",
       "   ('fresh lemon juice', 0.061375313),\n",
       "   ('salt', 0.056149933),\n",
       "   ('olive oil', 0.052925456),\n",
       "   ('ground black pepper', 0.05170877),\n",
       "   ('plum tomatoes', 0.04605283),\n",
       "   ('purple onion', 0.04284313),\n",
       "   ('balsamic vinegar', 0.0344369),\n",
       "   ('fresh basil', 0.033453677)]),\n",
       " (10,\n",
       "  [('broccoli florets', 0.06574535),\n",
       "   ('button mushrooms', 0.050006755),\n",
       "   ('crème fraîche', 0.048878115),\n",
       "   ('yellow squash', 0.046546444),\n",
       "   ('radishes', 0.04564498),\n",
       "   ('greek style plain yogurt', 0.0389303),\n",
       "   ('pork sausages', 0.038745034),\n",
       "   ('watercress', 0.035340868),\n",
       "   ('quickcooking grits', 0.033033878),\n",
       "   ('ripe olives', 0.031218175)]),\n",
       " (11,\n",
       "  [('lime', 0.13324983),\n",
       "   ('lime juice', 0.113112725),\n",
       "   ('fresh cilantro', 0.056157865),\n",
       "   ('chopped cilantro', 0.036652777),\n",
       "   ('purple onion', 0.035571523),\n",
       "   ('garlic', 0.031038351),\n",
       "   ('mango', 0.030782204),\n",
       "   ('jalapeno chilies', 0.027463),\n",
       "   ('lime wedges', 0.027399795),\n",
       "   ('thai chile', 0.02171147)]),\n",
       " (12,\n",
       "  [('cheese', 0.09619762),\n",
       "   ('ricotta cheese', 0.09276548),\n",
       "   ('orange juice', 0.08753805),\n",
       "   ('sliced mushrooms', 0.05913968),\n",
       "   ('baby spinach', 0.05817083),\n",
       "   ('vegetable broth', 0.056372326),\n",
       "   ('vegetable oil cooking spray', 0.051825386),\n",
       "   ('frozen chopped spinach', 0.03718004),\n",
       "   ('part-skim mozzarella cheese', 0.034643237),\n",
       "   ('italian sausage', 0.033470426)]),\n",
       " (13,\n",
       "  [('diced tomatoes', 0.08949127),\n",
       "   ('onions', 0.063555),\n",
       "   ('dried oregano', 0.058950078),\n",
       "   ('tomato sauce', 0.053276103),\n",
       "   ('garlic', 0.04671759),\n",
       "   ('tomato paste', 0.04583015),\n",
       "   ('salt', 0.044318825),\n",
       "   ('olive oil', 0.037058283),\n",
       "   ('crushed tomatoes', 0.03325716),\n",
       "   ('ground beef', 0.029793447)]),\n",
       " (14,\n",
       "  [('tomatoes', 0.12138124),\n",
       "   ('red wine vinegar', 0.08690447),\n",
       "   ('salt', 0.08497213),\n",
       "   ('cucumber', 0.07010176),\n",
       "   ('olive oil', 0.069502614),\n",
       "   ('pepper', 0.051214937),\n",
       "   ('fresh oregano', 0.045018904),\n",
       "   ('purple onion', 0.035312288),\n",
       "   ('lemon juice', 0.034996122),\n",
       "   ('garlic', 0.03140461)]),\n",
       " (15,\n",
       "  [('lemon', 0.20254007),\n",
       "   ('orange', 0.05514188),\n",
       "   ('boiling water', 0.05308908),\n",
       "   ('fine sea salt', 0.049361825),\n",
       "   ('sugar', 0.04555831),\n",
       "   ('cold water', 0.0438469),\n",
       "   ('fennel seeds', 0.03383317),\n",
       "   ('almonds', 0.031720247),\n",
       "   ('water', 0.031160306),\n",
       "   ('mint', 0.028016835)]),\n",
       " (16,\n",
       "  [('chopped cilantro fresh', 0.10250139),\n",
       "   ('fresh lime juice', 0.07625358),\n",
       "   ('jalapeno chilies', 0.068723425),\n",
       "   ('white onion', 0.051106088),\n",
       "   ('salt', 0.04570072),\n",
       "   ('avocado', 0.042353068),\n",
       "   ('ground cumin', 0.037937436),\n",
       "   ('garlic cloves', 0.03727546),\n",
       "   ('cilantro leaves', 0.02767209),\n",
       "   ('vegetable oil', 0.027415235)]),\n",
       " (17,\n",
       "  [('ground ginger', 0.1003858),\n",
       "   ('ground cinnamon', 0.10011952),\n",
       "   ('raisins', 0.081040554),\n",
       "   ('ground cloves', 0.07654156),\n",
       "   ('white wine', 0.07024685),\n",
       "   ('ground allspice', 0.060732942),\n",
       "   ('fresh mushrooms', 0.054700267),\n",
       "   ('lean ground beef', 0.049738415),\n",
       "   ('dried rosemary', 0.03212129),\n",
       "   ('iceberg lettuce', 0.029805478)]),\n",
       " (18,\n",
       "  [('parmesan cheese', 0.116146974),\n",
       "   ('warm water', 0.071032666),\n",
       "   ('salt', 0.062806584),\n",
       "   ('dried basil', 0.057049043),\n",
       "   ('olive oil', 0.052805815),\n",
       "   ('grits', 0.03877256),\n",
       "   ('kale', 0.03225609),\n",
       "   ('plain flour', 0.030817514),\n",
       "   ('water', 0.0279761),\n",
       "   ('dry yeast', 0.026756259)]),\n",
       " (19,\n",
       "  [('unsalted butter', 0.12396682),\n",
       "   ('all-purpose flour', 0.0966109),\n",
       "   ('large eggs', 0.09548558),\n",
       "   ('salt', 0.07562903),\n",
       "   ('sugar', 0.06066534),\n",
       "   ('whole milk', 0.03948069),\n",
       "   ('granulated sugar', 0.03791894),\n",
       "   ('baking powder', 0.0332145),\n",
       "   ('large egg yolks', 0.026069298),\n",
       "   ('buttermilk', 0.025911434)]),\n",
       " (20,\n",
       "  [('flat leaf parsley', 0.11814843),\n",
       "   ('freshly ground pepper', 0.10131634),\n",
       "   ('extra-virgin olive oil', 0.055068348),\n",
       "   ('garlic cloves', 0.053188793),\n",
       "   ('large shrimp', 0.04432555),\n",
       "   ('olive oil', 0.04368947),\n",
       "   ('salt', 0.04190908),\n",
       "   ('dry bread crumbs', 0.03283869),\n",
       "   ('ground black pepper', 0.026379488),\n",
       "   ('kosher salt', 0.023973634)]),\n",
       " (21,\n",
       "  [('chicken broth', 0.14634492),\n",
       "   ('green bell pepper', 0.067792475),\n",
       "   ('boneless skinless chicken breast halves', 0.05947735),\n",
       "   ('boneless skinless chicken breasts', 0.0557939),\n",
       "   ('onions', 0.054770872),\n",
       "   ('chicken breasts', 0.04836077),\n",
       "   ('red bell pepper', 0.043737285),\n",
       "   ('butter', 0.03961099),\n",
       "   ('pepper', 0.03909155),\n",
       "   ('salt', 0.03788871)]),\n",
       " (22,\n",
       "  [('grated parmesan cheese', 0.11440885),\n",
       "   ('olive oil', 0.063536406),\n",
       "   ('zucchini', 0.054369885),\n",
       "   ('salt', 0.04626041),\n",
       "   ('garlic', 0.041930754),\n",
       "   ('mozzarella cheese', 0.040702693),\n",
       "   ('shredded mozzarella cheese', 0.037598778),\n",
       "   ('eggplant', 0.036509324),\n",
       "   ('pepper', 0.03550971),\n",
       "   ('eggs', 0.032293912)]),\n",
       " (23,\n",
       "  [('brown sugar', 0.077908315),\n",
       "   ('water', 0.05059896),\n",
       "   ('salt', 0.0494666),\n",
       "   ('soy sauce', 0.048329823),\n",
       "   ('white pepper', 0.046177134),\n",
       "   ('oil', 0.04380279),\n",
       "   ('sugar', 0.040623967),\n",
       "   ('sauce', 0.038402643),\n",
       "   ('ketchup', 0.034619287),\n",
       "   ('garlic', 0.033846084)]),\n",
       " (24,\n",
       "  [('ground cumin', 0.07364245),\n",
       "   ('ground coriander', 0.046761498),\n",
       "   ('salt', 0.0463043),\n",
       "   ('curry powder', 0.038892366),\n",
       "   ('onions', 0.033559605),\n",
       "   ('garlic', 0.028559752),\n",
       "   ('vegetable oil', 0.02765966),\n",
       "   ('garlic cloves', 0.026570542),\n",
       "   ('ground turmeric', 0.026117643),\n",
       "   ('fresh ginger', 0.024631731)]),\n",
       " (25,\n",
       "  [('hot water', 0.089529775),\n",
       "   ('chopped garlic', 0.083201244),\n",
       "   ('peanut oil', 0.06427322),\n",
       "   ('rice wine', 0.058732744),\n",
       "   ('hot red pepper flakes', 0.04587852),\n",
       "   ('corn oil', 0.036543973),\n",
       "   ('fontina cheese', 0.032609235),\n",
       "   ('marsala wine', 0.030528935),\n",
       "   ('seasoning', 0.030259542),\n",
       "   ('garlic chili sauce', 0.029495442)]),\n",
       " (26,\n",
       "  [('mirin', 0.08175664),\n",
       "   ('chickpeas', 0.07179591),\n",
       "   ('red pepper', 0.051559698),\n",
       "   ('mint leaves', 0.049584925),\n",
       "   ('chopped fresh mint', 0.048797738),\n",
       "   ('juice', 0.048076984),\n",
       "   ('sugar', 0.038926728),\n",
       "   ('fresh coriander', 0.03688201),\n",
       "   ('sake', 0.034985043),\n",
       "   ('grated lemon zest', 0.030098686)]),\n",
       " (27,\n",
       "  [('heavy cream', 0.18096067),\n",
       "   ('cheddar cheese', 0.101505116),\n",
       "   ('frozen peas', 0.06882812),\n",
       "   ('grated nutmeg', 0.06578477),\n",
       "   ('bananas', 0.03991429),\n",
       "   ('bread', 0.03652344),\n",
       "   ('ice', 0.025877679),\n",
       "   ('adobo sauce', 0.02380908),\n",
       "   ('old bay seasoning', 0.022998365),\n",
       "   ('butter', 0.022560872)]),\n",
       " (28,\n",
       "  [('oil', 0.11503786),\n",
       "   ('salt', 0.08705042),\n",
       "   ('cilantro leaves', 0.052283484),\n",
       "   ('green chilies', 0.051159658),\n",
       "   ('cumin seed', 0.048520777),\n",
       "   ('onions', 0.046565212),\n",
       "   ('ground turmeric', 0.043089375),\n",
       "   ('water', 0.0410759),\n",
       "   ('chili powder', 0.03254823),\n",
       "   ('tomatoes', 0.028983915)]),\n",
       " (29,\n",
       "  [('sour cream', 0.077503435),\n",
       "   ('salsa', 0.047269966),\n",
       "   ('flour tortillas', 0.04666448),\n",
       "   ('chili powder', 0.04502497),\n",
       "   ('corn tortillas', 0.041617747),\n",
       "   ('shredded cheddar cheese', 0.04123818),\n",
       "   ('black beans', 0.039947815),\n",
       "   ('cilantro', 0.035541322),\n",
       "   ('salt', 0.029736297),\n",
       "   ('ground cumin', 0.027863031)]),\n",
       " (30,\n",
       "  [('sugar', 0.0934549),\n",
       "   ('whipping cream', 0.080572635),\n",
       "   ('egg yolks', 0.07641536),\n",
       "   ('vanilla extract', 0.050435536),\n",
       "   ('butter', 0.050262906),\n",
       "   ('egg whites', 0.04913549),\n",
       "   ('half & half', 0.04294776),\n",
       "   ('sweetened condensed milk', 0.036954578),\n",
       "   ('water', 0.034573458),\n",
       "   ('strawberries', 0.031119244)]),\n",
       " (31,\n",
       "  [('shrimp', 0.10081189),\n",
       "   ('medium shrimp', 0.06339504),\n",
       "   ('long-grain rice', 0.045318007),\n",
       "   ('vegetable oil', 0.045047592),\n",
       "   ('long grain white rice', 0.03541889),\n",
       "   ('rice noodles', 0.035118602),\n",
       "   ('hot pepper sauce', 0.034939237),\n",
       "   ('green onions', 0.03459801),\n",
       "   ('scallions', 0.02868367),\n",
       "   ('asian fish sauce', 0.026208445)]),\n",
       " (32,\n",
       "  [('eggs', 0.111901),\n",
       "   ('milk', 0.10424604),\n",
       "   ('salt', 0.09619788),\n",
       "   ('butter', 0.073087476),\n",
       "   ('all-purpose flour', 0.06781701),\n",
       "   ('flour', 0.04179735),\n",
       "   ('baking powder', 0.04146525),\n",
       "   ('sugar', 0.040444084),\n",
       "   ('white sugar', 0.0400078),\n",
       "   ('water', 0.022988042)]),\n",
       " (33,\n",
       "  [('rice', 0.06244543),\n",
       "   ('coriander', 0.054827917),\n",
       "   ('onions', 0.04918885),\n",
       "   ('salt', 0.047283705),\n",
       "   ('garam masala', 0.042555265),\n",
       "   ('tumeric', 0.04015476),\n",
       "   ('ginger', 0.039631277),\n",
       "   ('cabbage', 0.037859906),\n",
       "   ('garlic', 0.03556364),\n",
       "   ('ghee', 0.033822563)]),\n",
       " (34,\n",
       "  [('cinnamon sticks', 0.09098068),\n",
       "   ('clove', 0.08471854),\n",
       "   ('black peppercorns', 0.07093683),\n",
       "   ('chopped tomatoes', 0.041606765),\n",
       "   ('cream', 0.04142125),\n",
       "   ('garlic paste', 0.038597018),\n",
       "   ('coriander seeds', 0.034961782),\n",
       "   ('yoghurt', 0.034763023),\n",
       "   ('fresh dill', 0.03261751),\n",
       "   ('onions', 0.028156318)]),\n",
       " (35,\n",
       "  [('onions', 0.06650242),\n",
       "   ('bay leaves', 0.050647255),\n",
       "   ('celery', 0.050185155),\n",
       "   ('salt', 0.048556957),\n",
       "   ('dried thyme', 0.045663383),\n",
       "   ('bay leaf', 0.045511916),\n",
       "   ('carrots', 0.045127075),\n",
       "   ('water', 0.041306432),\n",
       "   ('garlic', 0.03325328),\n",
       "   ('ground black pepper', 0.030322129)]),\n",
       " (36,\n",
       "  [('salt', 0.11764925),\n",
       "   ('pepper', 0.09856574),\n",
       "   ('paprika', 0.07082272),\n",
       "   ('onions', 0.06925462),\n",
       "   ('potatoes', 0.05512361),\n",
       "   ('butter', 0.044665158),\n",
       "   ('garlic', 0.038709298),\n",
       "   ('olive oil', 0.037221506),\n",
       "   ('worcestershire sauce', 0.02513952),\n",
       "   ('carrots', 0.024566341)]),\n",
       " (37,\n",
       "  [('sea salt', 0.110067494),\n",
       "   ('coarse salt', 0.066077515),\n",
       "   ('crushed red pepper flakes', 0.057118714),\n",
       "   ('extra-virgin olive oil', 0.05022905),\n",
       "   ('celery ribs', 0.044991404),\n",
       "   ('ground black pepper', 0.04465944),\n",
       "   ('ground pepper', 0.041511975),\n",
       "   ('kosher salt', 0.03860048),\n",
       "   ('garlic cloves', 0.034219377),\n",
       "   ('parmigiano reggiano cheese', 0.03361007)]),\n",
       " (38,\n",
       "  [('fish sauce', 0.114701875),\n",
       "   ('coconut milk', 0.05481956),\n",
       "   ('garlic', 0.04178158),\n",
       "   ('shallots', 0.037210587),\n",
       "   ('red chili peppers', 0.036522213),\n",
       "   ('lemongrass', 0.03425015),\n",
       "   ('sugar', 0.027802877),\n",
       "   ('vegetable oil', 0.026005741),\n",
       "   ('boneless chicken skinless thigh', 0.02492899),\n",
       "   ('brown sugar', 0.024187163)]),\n",
       " (39,\n",
       "  [('mayonaise', 0.15268919),\n",
       "   ('dijon mustard', 0.09496535),\n",
       "   ('cider vinegar', 0.06909676),\n",
       "   ('cracked black pepper', 0.06902561),\n",
       "   ('roma tomatoes', 0.04665376),\n",
       "   ('white rice', 0.04345064),\n",
       "   ('lemon wedge', 0.04311489),\n",
       "   ('romaine lettuce', 0.036041766),\n",
       "   ('chicken wings', 0.024163801),\n",
       "   ('green onions', 0.024151009)])]"
      ]
     },
     "execution_count": 14,
     "metadata": {},
     "output_type": "execute_result"
    }
   ],
   "source": [
    "topics = ldamodel.show_topics(num_words=10, num_topics=40, formatted=False)\n",
    "topics"
   ]
  },
  {
   "cell_type": "code",
   "execution_count": 23,
   "metadata": {},
   "outputs": [
    {
     "name": "stdout",
     "output_type": "stream",
     "text": [
      "{'salt': 23, 'sugar': 9, 'water': 8, 'mushrooms': 1, 'chicken': 0, 'eggs': 2}\n"
     ]
    }
   ],
   "source": [
    "d = {\n",
    "    \"salt\": 0,\n",
    "    \"sugar\": 0,\n",
    "    \"water\": 0,\n",
    "    \"mushrooms\": 0,\n",
    "    \"chicken\": 0,\n",
    "    \"eggs\": 0\n",
    "}\n",
    "for topic in topics:\n",
    "    words_coeff_pairs = topic[1]\n",
    "    words = [word_coeff[0] for word_coeff in words_coeff_pairs]\n",
    "    #print(words)\n",
    "    for key in d.keys():\n",
    "        if key in words:\n",
    "            d[key] = d[key] + 1\n",
    "print(d)"
   ]
  },
  {
   "cell_type": "code",
   "execution_count": 24,
   "metadata": {},
   "outputs": [],
   "source": [
    "def save_answers1(c_salt, c_sugar, c_water, c_mushrooms, c_chicken, c_eggs):\n",
    "    with open(\"cooking_LDA_pa_task1.txt\", \"w\") as fout:\n",
    "        fout.write(\" \".join([str(el) for el in [c_salt, c_sugar, c_water, c_mushrooms, c_chicken, c_eggs]]))"
   ]
  },
  {
   "cell_type": "code",
   "execution_count": 25,
   "metadata": {},
   "outputs": [],
   "source": [
    "save_answers1(d[\"salt\"], d[\"sugar\"], d[\"water\"], d[\"mushrooms\"], d[\"chicken\"], d[\"eggs\"])"
   ]
  },
  {
   "cell_type": "markdown",
   "metadata": {},
   "source": [
    "### Фильтрация словаря\n",
    "В топах тем гораздо чаще встречаются первые три рассмотренных ингредиента, чем последние три. При этом наличие в рецепте курицы, яиц и грибов яснее дает понять, что мы будем готовить, чем наличие соли, сахара и воды. Таким образом, даже в рецептах есть слова, часто встречающиеся в текстах и не несущие смысловой нагрузки, и поэтому их не желательно видеть в темах. Наиболее простой прием борьбы с такими фоновыми элементами — фильтрация словаря по частоте. Обычно словарь фильтруют с двух сторон: убирают очень редкие слова (в целях экономии памяти) и очень частые слова (в целях повышения интерпретируемости тем). Мы уберем только частые слова."
   ]
  },
  {
   "cell_type": "code",
   "execution_count": 27,
   "metadata": {},
   "outputs": [],
   "source": [
    "import copy\n",
    "dictionary2 = copy.deepcopy(dictionary)"
   ]
  },
  {
   "cell_type": "markdown",
   "metadata": {},
   "source": [
    "__Задание 2.__ У объекта dictionary2 есть переменная *dfs* — это словарь, ключами которого являются id токена, а элементами — число раз, сколько слово встретилось во всей коллекции. Сохраните в отдельный список ингредиенты, которые встретились в коллекции больше 4000 раз. Вызовите метод словаря *filter_tokens*, подав в качестве первого аргумента полученный список популярных ингредиентов. Вычислите две величины: dict_size_before и dict_size_after — размер словаря до и после фильтрации.\n",
    "\n",
    "Затем, используя новый словарь, создайте новый корпус документов, corpus2, по аналогии с тем, как это сделано в начале ноутбука. Вычислите две величины: corpus_size_before и corpus_size_after — суммарное количество ингредиентов в корпусе (для каждого документа вычислите число различных ингредиентов в нем и просуммируйте по всем документам) до и после фильтрации.\n",
    "\n",
    "Передайте величины dict_size_before, dict_size_after, corpus_size_before, corpus_size_after в функцию save_answers2 и загрузите сгенерированный файл в форму."
   ]
  },
  {
   "cell_type": "code",
   "execution_count": 36,
   "metadata": {},
   "outputs": [
    {
     "name": "stdout",
     "output_type": "stream",
     "text": [
      "[3, 5, 15, 11, 18, 20, 29, 44, 52, 59, 104, 114]\n",
      "garlic\n",
      "pepper\n",
      "salt\n",
      "ground black pepper\n",
      "vegetable oil\n",
      "butter\n",
      "water\n",
      "onions\n",
      "sugar\n",
      "olive oil\n",
      "garlic cloves\n",
      "all-purpose flour\n"
     ]
    }
   ],
   "source": [
    "dfs = dictionary2.dfs\n",
    "tokens_more_than_4000 = []\n",
    "for key in  dfs:\n",
    "    if dfs[key]>4000:\n",
    "        tokens_more_than_4000.append(key)\n",
    "#print(tokens_more_than_4000)\n",
    "for token in tokens_more_than_4000:\n",
    "    print(dictionary2.id2token[token])"
   ]
  },
  {
   "cell_type": "code",
   "execution_count": 38,
   "metadata": {},
   "outputs": [
    {
     "data": {
      "text/plain": [
       "6714"
      ]
     },
     "execution_count": 38,
     "metadata": {},
     "output_type": "execute_result"
    }
   ],
   "source": [
    "dict_size_before = len(dfs)"
   ]
  },
  {
   "cell_type": "code",
   "execution_count": 40,
   "metadata": {},
   "outputs": [],
   "source": [
    "dictionary2.filter_tokens(tokens_more_than_4000)"
   ]
  },
  {
   "cell_type": "code",
   "execution_count": 42,
   "metadata": {},
   "outputs": [
    {
     "data": {
      "text/plain": [
       "6702"
      ]
     },
     "execution_count": 42,
     "metadata": {},
     "output_type": "execute_result"
    }
   ],
   "source": [
    "dict_size_after = len(dictionary2.dfs)\n",
    "dict_size_after"
   ]
  },
  {
   "cell_type": "code",
   "execution_count": 45,
   "metadata": {},
   "outputs": [],
   "source": [
    "corpus2 = [dictionary2.doc2bow(text) for text in texts]"
   ]
  },
  {
   "cell_type": "code",
   "execution_count": 49,
   "metadata": {},
   "outputs": [
    {
     "data": {
      "text/plain": [
       "428249"
      ]
     },
     "execution_count": 49,
     "metadata": {},
     "output_type": "execute_result"
    }
   ],
   "source": [
    "corpus_size_before = 0\n",
    "for text in corpus:\n",
    "    #print(text)\n",
    "    corpus_size_before += len(text)\n",
    "corpus_size_before"
   ]
  },
  {
   "cell_type": "code",
   "execution_count": 50,
   "metadata": {},
   "outputs": [
    {
     "data": {
      "text/plain": [
       "343665"
      ]
     },
     "execution_count": 50,
     "metadata": {},
     "output_type": "execute_result"
    }
   ],
   "source": [
    "corpus_size_after = 0\n",
    "for text in corpus2:\n",
    "    corpus_size_after += len(text)\n",
    "corpus_size_after"
   ]
  },
  {
   "cell_type": "code",
   "execution_count": 51,
   "metadata": {},
   "outputs": [],
   "source": [
    "def save_answers2(dict_size_before, dict_size_after, corpus_size_before, corpus_size_after):\n",
    "    with open(\"cooking_LDA_pa_task2.txt\", \"w\") as fout:\n",
    "        fout.write(\" \".join([str(el) for el in [dict_size_before, dict_size_after, corpus_size_before, corpus_size_after]]))"
   ]
  },
  {
   "cell_type": "code",
   "execution_count": 52,
   "metadata": {},
   "outputs": [],
   "source": [
    "save_answers2(dict_size_before, dict_size_after, corpus_size_before, corpus_size_after)"
   ]
  },
  {
   "cell_type": "markdown",
   "metadata": {},
   "source": [
    "### Сравнение когерентностей\n",
    "__Задание 3.__ Постройте еще одну модель по корпусу corpus2 и словарю dictionary2, остальные параметры оставьте такими же, как при первом построении модели. Сохраните новую модель в другую переменную (не перезаписывайте предыдущую модель). Не забудьте про фиксирование seed!\n",
    "\n",
    "Затем воспользуйтесь методом *top_topics* модели, чтобы вычислить ее когерентность. Передайте в качестве аргумента соответствующий модели корпус. Метод вернет список кортежей (топ токенов, когерентность), отсортированных по убыванию последней. Вычислите среднюю по всем темам когерентность для каждой из двух моделей и передайте в функцию save_answers3. "
   ]
  },
  {
   "cell_type": "code",
   "execution_count": null,
   "metadata": {},
   "outputs": [],
   "source": []
  },
  {
   "cell_type": "code",
   "execution_count": null,
   "metadata": {},
   "outputs": [],
   "source": []
  },
  {
   "cell_type": "code",
   "execution_count": null,
   "metadata": {},
   "outputs": [],
   "source": []
  },
  {
   "cell_type": "code",
   "execution_count": null,
   "metadata": {},
   "outputs": [],
   "source": [
    "def save_answers3(coherence, coherence2):\n",
    "    with open(\"cooking_LDA_pa_task3.txt\", \"w\") as fout:\n",
    "        fout.write(\" \".join([\"%3f\"%el for el in [coherence, coherence2]]))"
   ]
  },
  {
   "cell_type": "markdown",
   "metadata": {},
   "source": [
    "Считается, что когерентность хорошо соотносится с человеческими оценками интерпретируемости тем. Поэтому на больших текстовых коллекциях когерентность обычно повышается, если убрать фоновую лексику. Однако в нашем случае этого не произошло. "
   ]
  },
  {
   "cell_type": "markdown",
   "metadata": {},
   "source": [
    "### Изучение влияния гиперпараметра alpha"
   ]
  },
  {
   "cell_type": "markdown",
   "metadata": {},
   "source": [
    "В этом разделе мы будем работать со второй моделью, то есть той, которая построена по сокращенному корпусу. \n",
    "\n",
    "Пока что мы посмотрели только на матрицу темы-слова, теперь давайте посмотрим на матрицу темы-документы. Выведите темы для нулевого (или любого другого) документа из корпуса, воспользовавшись методом *get_document_topics* второй модели:"
   ]
  },
  {
   "cell_type": "code",
   "execution_count": null,
   "metadata": {},
   "outputs": [],
   "source": []
  },
  {
   "cell_type": "markdown",
   "metadata": {},
   "source": [
    "Также выведите содержимое переменной *.alpha* второй модели:"
   ]
  },
  {
   "cell_type": "code",
   "execution_count": null,
   "metadata": {},
   "outputs": [],
   "source": []
  },
  {
   "cell_type": "markdown",
   "metadata": {},
   "source": [
    "У вас должно получиться, что документ характеризуется небольшим числом тем. Попробуем поменять гиперпараметр alpha, задающий априорное распределение Дирихле для распределений тем в документах."
   ]
  },
  {
   "cell_type": "markdown",
   "metadata": {},
   "source": [
    "__Задание 4.__ Обучите третью модель: используйте сокращенный корпус (corpus2 и dictionary2) и установите параметр __alpha=1__, passes=5. Не забудьте про фиксацию seed! Выведите темы новой модели для нулевого документа; должно получиться, что распределение над множеством тем практически равномерное. Чтобы убедиться в том, что во второй модели документы описываются гораздо более разреженными распределениями, чем в третьей, посчитайте суммарное количество элементов, __превосходящих 0.01__, в матрицах темы-документы обеих моделей. Другими словами, запросите темы  модели для каждого документа с параметром *minimum_probability=0.01* и просуммируйте число элементов в получаемых массивах. Передайте две суммы (сначала для модели с alpha по умолчанию, затем для модели в alpha=1) в функцию save_answers4."
   ]
  },
  {
   "cell_type": "code",
   "execution_count": null,
   "metadata": {},
   "outputs": [],
   "source": []
  },
  {
   "cell_type": "code",
   "execution_count": null,
   "metadata": {},
   "outputs": [],
   "source": []
  },
  {
   "cell_type": "code",
   "execution_count": null,
   "metadata": {},
   "outputs": [],
   "source": []
  },
  {
   "cell_type": "code",
   "execution_count": null,
   "metadata": {},
   "outputs": [],
   "source": [
    "def save_answers4(count_model2, count_model3):\n",
    "    with open(\"cooking_LDA_pa_task4.txt\", \"w\") as fout:\n",
    "        fout.write(\" \".join([str(el) for el in [count_model2, count_model3]]))"
   ]
  },
  {
   "cell_type": "markdown",
   "metadata": {},
   "source": [
    "Таким образом, гиперпараметр __alpha__ влияет на разреженность распределений тем в документах. Аналогично гиперпараметр __eta__ влияет на разреженность распределений слов в темах."
   ]
  },
  {
   "cell_type": "markdown",
   "metadata": {},
   "source": [
    "### LDA как способ понижения размерности\n",
    "Иногда, распределения над темами, найденные с помощью LDA, добавляют в матрицу объекты-признаки как дополнительные, семантические, признаки, и это может улучшить качество решения задачи. Для простоты давайте просто обучим классификатор рецептов на кухни на признаках, полученных из LDA, и измерим точность (accuracy).\n",
    "\n",
    "__Задание 5.__ Используйте модель, построенную по сокращенной выборке с alpha по умолчанию (вторую модель). Составьте матрицу $\\Theta = p(t|d)$ вероятностей тем в документах; вы можете использовать тот же метод get_document_topics, а также вектор правильных ответов y (в том же порядке, в котором рецепты идут в переменной recipes). Создайте объект RandomForestClassifier со 100 деревьями, с помощью функции cross_val_score вычислите среднюю accuracy по трем фолдам (перемешивать данные не нужно) и передайте в функцию save_answers5."
   ]
  },
  {
   "cell_type": "code",
   "execution_count": null,
   "metadata": {},
   "outputs": [],
   "source": [
    "from sklearn.ensemble import RandomForestClassifier\n",
    "from sklearn.model_selection import cross_val_score"
   ]
  },
  {
   "cell_type": "code",
   "execution_count": null,
   "metadata": {},
   "outputs": [],
   "source": []
  },
  {
   "cell_type": "code",
   "execution_count": null,
   "metadata": {},
   "outputs": [],
   "source": []
  },
  {
   "cell_type": "code",
   "execution_count": null,
   "metadata": {},
   "outputs": [],
   "source": []
  },
  {
   "cell_type": "code",
   "execution_count": null,
   "metadata": {},
   "outputs": [],
   "source": [
    "def save_answers5(accuracy):\n",
    "     with open(\"cooking_LDA_pa_task5.txt\", \"w\") as fout:\n",
    "        fout.write(str(accuracy))"
   ]
  },
  {
   "cell_type": "markdown",
   "metadata": {},
   "source": [
    "Для такого большого количества классов это неплохая точность. Вы можете попроовать обучать RandomForest на исходной матрице частот слов, имеющей значительно большую размерность, и увидеть, что accuracy увеличивается на 10–15%. Таким образом, LDA собрал не всю, но достаточно большую часть информации из выборки, в матрице низкого ранга."
   ]
  },
  {
   "cell_type": "markdown",
   "metadata": {},
   "source": [
    "### LDA — вероятностная модель\n",
    "Матричное разложение, использующееся в LDA, интерпретируется как следующий процесс генерации документов.\n",
    "\n",
    "Для документа $d$ длины $n_d$:\n",
    "1. Из априорного распределения Дирихле с параметром alpha сгенерировать распределение над множеством тем: $\\theta_d \\sim Dirichlet(\\alpha)$\n",
    "1. Для каждого слова $w = 1, \\dots, n_d$:\n",
    "    1. Сгенерировать тему из дискретного распределения $t \\sim \\theta_{d}$\n",
    "    1. Сгенерировать слово из дискретного распределения $w \\sim \\phi_{t}$.\n",
    "    \n",
    "Подробнее об этом в [Википедии](https://en.wikipedia.org/wiki/Latent_Dirichlet_allocation).\n",
    "\n",
    "В контексте нашей задачи получается, что, используя данный генеративный процесс, можно создавать новые рецепты. Вы можете передать в функцию модель и число ингредиентов и сгенерировать рецепт :)"
   ]
  },
  {
   "cell_type": "code",
   "execution_count": null,
   "metadata": {},
   "outputs": [],
   "source": [
    "def generate_recipe(model, num_ingredients):\n",
    "    theta = np.random.dirichlet(model.alpha)\n",
    "    for i in range(num_ingredients):\n",
    "        t = np.random.choice(np.arange(model.num_topics), p=theta)\n",
    "        topic = model.show_topic(t, topn=model.num_terms)\n",
    "        topic_distr = [x[1] for x in topic]\n",
    "        terms = [x[0] for x in topic]\n",
    "        w = np.random.choice(terms, p=topic_distr)\n",
    "        print w"
   ]
  },
  {
   "cell_type": "code",
   "execution_count": null,
   "metadata": {},
   "outputs": [],
   "source": []
  },
  {
   "cell_type": "markdown",
   "metadata": {},
   "source": [
    "### Интерпретация построенной модели\n",
    "Вы можете рассмотреть топы ингредиентов каждой темы. Большиснтво тем сами по себе похожи на рецепты; в некоторых собираются продукты одного вида, например, свежие фрукты или разные виды сыра.\n",
    "\n",
    "Попробуем эмпирически соотнести наши темы с национальными кухнями (cuisine). Построим матрицу $A$ размера темы $x$ кухни, ее элементы $a_{tc}$ — суммы $p(t|d)$ по всем документам $d$, которые отнесены к кухне $c$. Нормируем матрицу на частоты рецептов по разным кухням, чтобы избежать дисбаланса между кухнями. Следующая функция получает на вход объект модели, объект корпуса и исходные данные и возвращает нормированную матрицу $A$. Ее удобно визуализировать с помощью seaborn."
   ]
  },
  {
   "cell_type": "code",
   "execution_count": null,
   "metadata": {},
   "outputs": [],
   "source": [
    "import pandas\n",
    "import seaborn\n",
    "from matplotlib import pyplot as plt\n",
    "%matplotlib inline"
   ]
  },
  {
   "cell_type": "code",
   "execution_count": null,
   "metadata": {},
   "outputs": [],
   "source": [
    "def compute_topic_cuisine_matrix(model, corpus, recipes):\n",
    "    # составляем вектор целевых признаков\n",
    "    targets = list(set([recipe[\"cuisine\"] for recipe in recipes]))\n",
    "    # составляем матрицу\n",
    "    tc_matrix = pandas.DataFrame(data=np.zeros((model.num_topics, len(targets))), columns=targets)\n",
    "    for recipe, bow in zip(recipes, corpus):\n",
    "        recipe_topic = model.get_document_topics(bow)\n",
    "        for t, prob in recipe_topic:\n",
    "            tc_matrix[recipe[\"cuisine\"]][t] += prob\n",
    "    # нормируем матрицу\n",
    "    target_sums = pandas.DataFrame(data=np.zeros((1, len(targets))), columns=targets)\n",
    "    for recipe in recipes:\n",
    "        target_sums[recipe[\"cuisine\"]] += 1\n",
    "    return pandas.DataFrame(tc_matrix.values/target_sums.values, columns=tc_matrix.columns)"
   ]
  },
  {
   "cell_type": "code",
   "execution_count": null,
   "metadata": {},
   "outputs": [],
   "source": [
    "def plot_matrix(tc_matrix):\n",
    "    plt.figure(figsize=(10, 10))\n",
    "    seaborn.heatmap(tc_matrix, square=True)"
   ]
  },
  {
   "cell_type": "code",
   "execution_count": null,
   "metadata": {},
   "outputs": [],
   "source": [
    "# Визуализируйте матрицу\n"
   ]
  },
  {
   "cell_type": "markdown",
   "metadata": {},
   "source": [
    "Чем темнее квадрат в матрице, тем больше связь этой темы с данной кухней. Мы видим, что у нас есть темы, которые связаны с несколькими кухнями. Такие темы показывают набор ингредиентов, которые популярны в кухнях нескольких народов, то есть указывают на схожесть кухонь этих народов. Некоторые темы распределены по всем кухням равномерно, они показывают наборы продуктов, которые часто используются в кулинарии всех стран. "
   ]
  },
  {
   "cell_type": "markdown",
   "metadata": {},
   "source": [
    "Жаль, что в датасете нет названий рецептов, иначе темы было бы проще интерпретировать..."
   ]
  },
  {
   "cell_type": "markdown",
   "metadata": {},
   "source": [
    "### Заключение\n",
    "В этом задании вы построили несколько моделей LDA, посмотрели, на что влияют гиперпараметры модели и как можно использовать построенную модель. "
   ]
  }
 ],
 "metadata": {
  "kernelspec": {
   "display_name": "Python 3",
   "language": "python",
   "name": "python3"
  },
  "language_info": {
   "codemirror_mode": {
    "name": "ipython",
    "version": 3
   },
   "file_extension": ".py",
   "mimetype": "text/x-python",
   "name": "python",
   "nbconvert_exporter": "python",
   "pygments_lexer": "ipython3",
   "version": "3.8.8"
  }
 },
 "nbformat": 4,
 "nbformat_minor": 1
}
