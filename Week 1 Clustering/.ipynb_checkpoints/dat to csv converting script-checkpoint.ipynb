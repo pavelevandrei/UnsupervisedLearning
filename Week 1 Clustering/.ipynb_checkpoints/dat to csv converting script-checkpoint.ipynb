{
 "cells": [
  {
   "cell_type": "markdown",
   "metadata": {},
   "source": [
    "Открываем файл, считываем первую строку, смотрим общий принцип замены."
   ]
  },
  {
   "cell_type": "code",
   "execution_count": 16,
   "metadata": {},
   "outputs": [
    {
     "name": "stdout",
     "output_type": "stream",
     "text": [
      "id,user_id,venue_id,latitude,longitude,created_at\n",
      "\n"
     ]
    }
   ],
   "source": [
    "with open('checkins.dat') as inf:\n",
    "    first_line = inf.readline().replace('|',',').replace(' ', '')\n",
    "    if (first_line.count(\",,,\")==0 and first_line.count(\"---\")==0):\n",
    "        print(first_line)"
   ]
  },
  {
   "cell_type": "markdown",
   "metadata": {},
   "source": [
    "### Сам скрипт"
   ]
  },
  {
   "cell_type": "markdown",
   "metadata": {},
   "source": [
    "Идём по всем строкам, начиная с первой, меняем | на запятые, убираем пробелы.\n",
    "Если нет географических координат, то в строке встречается комбинация из трёх запятых. \n",
    "Если это вторая строка (которая для красоты) - встречается набор тире.\n",
    "В последней строчке есть информация о количестве строк.\n",
    "Все эти случаи убираем, остальное пишем в файл."
   ]
  },
  {
   "cell_type": "code",
   "execution_count": 19,
   "metadata": {},
   "outputs": [],
   "source": [
    "with open('checkins.dat') as inf, open('checkins.csv', 'w') as ouf:\n",
    "    str_list = []\n",
    "    for line in inf:\n",
    "        line = line.replace('|',',').replace(' ', '')\n",
    "        if (line.count(\",,,\")==0 and line.count(\"---\")==0 and line.count(\"rows\")==0):\n",
    "            str_list.append(line)\n",
    "    ouf.write(\"\".join(str_list))"
   ]
  },
  {
   "cell_type": "code",
   "execution_count": null,
   "metadata": {},
   "outputs": [],
   "source": []
  }
 ],
 "metadata": {
  "kernelspec": {
   "display_name": "Python 3",
   "language": "python",
   "name": "python3"
  },
  "language_info": {
   "codemirror_mode": {
    "name": "ipython",
    "version": 3
   },
   "file_extension": ".py",
   "mimetype": "text/x-python",
   "name": "python",
   "nbconvert_exporter": "python",
   "pygments_lexer": "ipython3",
   "version": "3.7.3"
  }
 },
 "nbformat": 4,
 "nbformat_minor": 2
}
