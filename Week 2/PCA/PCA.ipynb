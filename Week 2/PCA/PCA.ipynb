{
 "cells": [
  {
   "cell_type": "markdown",
   "metadata": {},
   "source": [
    "**Корректность проверена на Python 3.6:**\n",
    "+ pandas 0.23.4\n",
    "+ numpy 1.15.4\n",
    "+ matplotlib 3.0.2\n",
    "+ sklearn 0.20.2"
   ]
  },
  {
   "cell_type": "markdown",
   "metadata": {},
   "source": [
    "# Метод главных компонент\n",
    "\n",
    "В данном задании вам будет предложено ознакомиться с подходом, который переоткрывался в самых разных областях, имеет множество разных интерпретаций, а также несколько интересных обобщений: методом главных компонент (principal component analysis)."
   ]
  },
  {
   "cell_type": "markdown",
   "metadata": {},
   "source": [
    "## Programming assignment\n",
    "\n",
    "Задание разбито на две части: \n",
    "- работа с модельными данными,\n",
    "- работа с реальными данными.\n",
    "\n",
    "В конце каждого пункта от вас требуется получить ответ и загрузить в соответствующую форму в виде набора текстовых файлов."
   ]
  },
  {
   "cell_type": "code",
   "execution_count": 1,
   "metadata": {},
   "outputs": [],
   "source": [
    "import numpy as np\n",
    "import pandas as pd\n",
    "import matplotlib\n",
    "from matplotlib import pyplot as plt\n",
    "import matplotlib.patches as mpatches\n",
    "matplotlib.style.use('ggplot')\n",
    "%matplotlib inline"
   ]
  },
  {
   "cell_type": "markdown",
   "metadata": {},
   "source": [
    "## Теория\n",
    "\n",
    "Любой набор данных представляет собой матрицу $X$.\n",
    "\n",
    "Метод главных компонент последовательно находит следующие линейные комбинации признаков (компоненты) из $X$:\n",
    "- каждая компонента ортогональна всем остальным и нормированна: $<w_i, w_j> = 0, \\quad ||w_i||=1$,\n",
    "- каждая компонента описывает максимально возможную дисперсию данных (с учётом предыдущего ограничения).\n",
    "\n",
    "Предположения, в рамках которых данный подход будет работать хорошо:\n",
    "- линейность компонент: мы предполагаем, что данные можно анализировать линейными методами,\n",
    "- большие дисперсии важны: предполагается, что наиболее важны те направления в данных, вдоль которых они имеют наибольшую дисперсию,\n",
    "- все компоненты ортогональны: это предположение позволяет проводить анализ главных компонент при помощи техник линейной алгебры (например, сингулярное разложение матрицы $X$ или спектральное разложение матрицы $X^TX$).\n",
    "\n",
    "Как это выглядит математически?\n",
    "\n",
    "Обозначим следующим образом выборочную матрицу ковариации данных: $\\hat{C} \\propto Q = X^TX$. ($Q$ отличается от $\\hat{C}$ нормировкой на число объектов).\n",
    "\n",
    "Сингулярное разложение матрицы $Q$ выглядит следующим образом:\n",
    "\n",
    "$$Q = X^TX = W \\Lambda W^T$$\n",
    "\n",
    "Можно строго показать, что столбцы матрицы $W$ являются главными компонентами матрицы $X$, т.е. комбинациями признаков, удовлетворяющих двум условиям, указанным в начале. При этом дисперсия данных вдоль направления, заданного каждой компонентой, равна соответствующему значению диагональной матрицы $\\Lambda$.\n",
    "\n",
    "Как же на основании этого преобразования производить уменьшение размерности? Мы можем отранжировать компоненты, используя значения дисперсий данных вдоль них.\n",
    "\n",
    "Сделаем это: $\\lambda_{(1)} > \\lambda_{(2)} > \\dots > \\lambda_{(D)}$.\n",
    "\n",
    "Тогда, если мы выберем компоненты, соответствующие первым $d$ дисперсиям из этого списка, мы получим набор из $d$ новых признаков, которые наилучшим образом описывают дисперсию изначального набора данных среди всех других возможных линейных комбинаций исходных признаков матрицы $X$. \n",
    "- Если $d=D$, то мы вообще не теряем никакой информации.\n",
    "- Если $d<D$, то мы теряем информацию, которая, при справедливости указанных выше предположений, будет пропорциональна сумме дисперсий отброшенных компонент.\n",
    "\n",
    "Получается, что метод главных компонент позволяет нам ранжировать полученные компоненты по \"значимости\", а также запустить процесс их отбора."
   ]
  },
  {
   "cell_type": "markdown",
   "metadata": {},
   "source": [
    "## Пример\n",
    "\n",
    "Рассмотрим набор данных, который сэмплирован из многомерного нормального распределения с матрицей ковариации $C = \\begin{pmatrix} 3 & 1 \\\\ 1 & 2 \\end{pmatrix}$."
   ]
  },
  {
   "cell_type": "code",
   "execution_count": 2,
   "metadata": {},
   "outputs": [
    {
     "data": {
      "image/png": "[encoded data removed]",
      "text/plain": [
       "<Figure size 432x288 with 1 Axes>"
      ]
     },
     "metadata": {
      "needs_background": "light"
     },
     "output_type": "display_data"
    }
   ],
   "source": [
    "from sklearn.decomposition import PCA\n",
    "\n",
    "mu = np.zeros(2)\n",
    "C = np.array([[3,1],[1,2]])\n",
    "\n",
    "data = np.random.multivariate_normal(mu, C, size=50)\n",
    "plt.scatter(data[:,0], data[:,1])\n",
    "plt.show()"
   ]
  },
  {
   "cell_type": "markdown",
   "metadata": {},
   "source": [
    "Путём диагонализации истинной матрицы ковариаций $C$, мы можем найти преобразование исходного набора данных, компоненты которого наилучшим образом будут описывать дисперсию, с учётом их ортогональности друг другу:"
   ]
  },
  {
   "cell_type": "code",
   "execution_count": 3,
   "metadata": {},
   "outputs": [
    {
     "data": {
      "image/png": "[encoded data removed]",
      "text/plain": [
       "<Figure size 432x288 with 1 Axes>"
      ]
     },
     "metadata": {
      "needs_background": "light"
     },
     "output_type": "display_data"
    }
   ],
   "source": [
    "v, W_true = np.linalg.eig(C)\n",
    "\n",
    "#print(v, W_true)\n",
    "\n",
    "plt.scatter(data[:,0], data[:,1])\n",
    "# построим истинные компоненты, вдоль которых максимальна дисперсия данных\n",
    "plt.plot(data[:,0], (W_true[0,0]/W_true[0,1])*data[:,0], color=\"g\")\n",
    "plt.plot(data[:,0], (W_true[1,0]/W_true[1,1])*data[:,0], color=\"g\")\n",
    "g_patch = mpatches.Patch(color='g', label='True components')\n",
    "plt.legend(handles=[g_patch])\n",
    "plt.axis('equal')\n",
    "limits = [np.minimum(np.amin(data[:,0]), np.amin(data[:,1])),\n",
    "          np.maximum(np.amax(data[:,0]), np.amax(data[:,1]))]\n",
    "plt.xlim(limits[0],limits[1])\n",
    "plt.ylim(limits[0],limits[1])\n",
    "plt.draw()"
   ]
  },
  {
   "cell_type": "markdown",
   "metadata": {},
   "source": [
    "А теперь сравним эти направления с направлениями, которые выбирает метод главных компонент:"
   ]
  },
  {
   "cell_type": "code",
   "execution_count": 4,
   "metadata": {},
   "outputs": [],
   "source": [
    "def plot_principal_components(data, model, scatter=True, legend=True):\n",
    "    W_pca = model.components_\n",
    "    if scatter:\n",
    "        plt.scatter(data[:,0], data[:,1])\n",
    "    plt.plot(data[:,0], -(W_pca[0,0]/W_pca[0,1])*data[:,0], color=\"c\")\n",
    "    plt.plot(data[:,0], -(W_pca[1,0]/W_pca[1,1])*data[:,0], color=\"c\")\n",
    "    if legend:\n",
    "        c_patch = mpatches.Patch(color='c', label='Principal components')\n",
    "        plt.legend(handles=[c_patch], loc='lower right')\n",
    "    # сделаем графики красивыми:\n",
    "    plt.axis('equal')\n",
    "    limits = [np.minimum(np.amin(data[:,0]), np.amin(data[:,1]))-0.5,\n",
    "              np.maximum(np.amax(data[:,0]), np.amax(data[:,1]))+0.5]\n",
    "    plt.xlim(limits[0],limits[1])\n",
    "    plt.ylim(limits[0],limits[1])\n",
    "    plt.draw()"
   ]
  },
  {
   "cell_type": "code",
   "execution_count": 5,
   "metadata": {},
   "outputs": [
    {
     "data": {
      "image/png": "[encoded data removed]",
      "text/plain": [
       "<Figure size 432x288 with 1 Axes>"
      ]
     },
     "metadata": {
      "needs_background": "light"
     },
     "output_type": "display_data"
    }
   ],
   "source": [
    "model = PCA(n_components=2)\n",
    "model.fit(data)\n",
    "\n",
    "plt.scatter(data[:,0], data[:,1])\n",
    "# построим истинные компоненты, вдоль которых максимальна дисперсия данных\n",
    "plt.plot(data[:,0], (W_true[0,0]/W_true[0,1])*data[:,0], color=\"g\")\n",
    "plt.plot(data[:,0], (W_true[1,0]/W_true[1,1])*data[:,0], color=\"g\")\n",
    "# построим компоненты, полученные с использованием метода PCA:\n",
    "plot_principal_components(data, model, scatter=False, legend=False)\n",
    "c_patch = mpatches.Patch(color='c', label='Principal components')\n",
    "plt.legend(handles=[g_patch, c_patch])\n",
    "plt.draw()"
   ]
  },
  {
   "cell_type": "markdown",
   "metadata": {},
   "source": [
    "Видно, что уже при небольшом количестве данных они отличаются незначительно. Увеличим размер выборки:"
   ]
  },
  {
   "cell_type": "code",
   "execution_count": 6,
   "metadata": {},
   "outputs": [
    {
     "data": {
      "image/png": "[encoded data removed]",
      "text/plain": [
       "<Figure size 432x288 with 1 Axes>"
      ]
     },
     "metadata": {
      "needs_background": "light"
     },
     "output_type": "display_data"
    }
   ],
   "source": [
    "data_large = np.random.multivariate_normal(mu, C, size=5000)\n",
    "\n",
    "model = PCA(n_components=2)\n",
    "model.fit(data_large)\n",
    "plt.scatter(data_large[:,0], data_large[:,1], alpha=0.1)\n",
    "# построим истинные компоненты, вдоль которых максимальна дисперсия данных\n",
    "plt.plot(data_large[:,0], (W_true[0,0]/W_true[0,1])*data_large[:,0], color=\"g\")\n",
    "plt.plot(data_large[:,0], (W_true[1,0]/W_true[1,1])*data_large[:,0], color=\"g\")\n",
    "# построим компоненты, полученные с использованием метода PCA:\n",
    "plot_principal_components(data_large, model, scatter=False, legend=False)\n",
    "c_patch = mpatches.Patch(color='c', label='Principal components')\n",
    "plt.legend(handles=[g_patch, c_patch])\n",
    "plt.draw()"
   ]
  },
  {
   "cell_type": "markdown",
   "metadata": {},
   "source": [
    "В этом случае главные компоненты значительно точнее приближают истинные направления данных, вдоль которых наблюдается наибольшая дисперсия."
   ]
  },
  {
   "cell_type": "markdown",
   "metadata": {},
   "source": [
    "## Статистический взгляд на модель\n",
    "\n",
    "Как формализовать предположения метода, указанные выше? При помощи вероятностной модели!\n",
    "\n",
    "Задача, стоящая за любым методом уменьшения размерности: получить из набора зашумлённых признаков $X$ истинные значения $Y$, которые на самом деле определяют набор данных (т.е. сведение датасета с большим количеством признаков к данным, имеющим т.н. \"эффективную размерность\").\n",
    "\n",
    "В случае метода главных компонент мы хотим найти направления, вдоль которых максимальна дисперсия, с учётом описанных выше предположений о структуре данных и компонент.\n",
    "\n",
    "Материал, описанный ниже в данной секции, не обязателен для ознакомления для выполнения следующего задания, т.к. требует некоторых знаний статистики.\n",
    "\n",
    "Для тех, кто собирается его пропустить: в конце раздела мы получим метрику качества, которая должна определять, насколько данные хорошо описываются построенной моделью при заданном числе компонент. Отбор признаков при этом сводится к тому, что мы выбираем то количество компонент, при котором используемая метрика (логарифм правдоподобия) является максимальной.\n",
    "\n",
    "С учётом предположений задача метода главных компонент выглядит следующим образом:\n",
    "\n",
    "$$ x = Wy + \\mu + \\epsilon$$\n",
    "\n",
    "где:\n",
    "- $x$ -- наблюдаемые данные\n",
    "- $W$ -- матрица главных компонент (каждый стобец -- одна компонента)\n",
    "- $y$ -- их проекция на главные компоненты\n",
    "- $\\mu$ -- среднее наблюдаемых данных\n",
    "- $\\epsilon \\sim \\mathcal{N}(0, \\sigma^2I)$ -- нормальный шум\n",
    "\n",
    "Исходя из распределения шума, выпишем распределение на $x$:\n",
    "\n",
    "$$p(x \\mid y) = \\mathcal{N}(Wx + \\mu, \\sigma^2I) $$\n",
    "\n",
    "Введём априорное распределение на $y$:\n",
    "\n",
    "$$p(y) = \\mathcal{N}(0, 1)$$\n",
    "\n",
    "Выведем из этого при помощи формулы Байеса маргинальное распределение на $p(x)$:\n",
    "\n",
    "$$p(x) = \\mathcal{N}(\\mu, \\sigma^2I + WW^T)$$\n",
    "\n",
    "Тогда правдоподобие набора данных при условии используемой модели выглядит следующим образом:\n",
    "\n",
    "$$\\mathcal{L} = \\sum_{i=1}^N \\log p(x_i) = -N/2 \\Big( d\\log(2\\pi) + \\log |C| + \\text{tr}(C^{-1}S) \\Big)$$\n",
    "\n",
    "где:\n",
    "- $C = \\sigma^2I + WW^T$ -- матрица ковариации в маргинальной модели\n",
    "- $S = \\frac{1}{N} \\sum_{i=1}^N (x_i - \\mu)(x_i - \\mu)^T$ -- выборочная ковариация\n",
    "\n",
    "Значение $\\mathcal{L}$ имеет смысл логарифма вероятности получения набора данных $X$ при условии, что он удовлетворяет предположениям модели метода главных компонент. Чем оно больше -- тем лучше модель описывает наблюдаемые данные."
   ]
  },
  {
   "cell_type": "markdown",
   "metadata": {},
   "source": [
    "## Задание 1. Автоматическое уменьшение размерности данных при помощи логарифма правдоподобия $\\mathcal{L}$\n",
    "\n",
    "Рассмотрим набор данных размерности $D$, чья реальная размерность значительно меньше наблюдаемой (назовём её $d$). От вас требуется:\n",
    "\n",
    "1. Для каждого значения $\\hat{d}$ в интервале [1,D] построить модель PCA с $\\hat{d}$ главными компонентами.\n",
    "2. Оценить средний логарифм правдоподобия данных для каждой модели на генеральной совокупности, используя метод кросс-валидации с 3 фолдами (итоговая оценка значения логарифма правдоподобия усредняется по всем фолдам).\n",
    "3. Найти модель, для которой он максимален, и внести в файл ответа число компонент в данной модели, т.е. значение $\\hat{d}_{opt}$.\n",
    "\n",
    "Для оценки логарифма правдоподобия модели для заданного числа главных компонент при помощи метода кросс-валидации используйте следующие функции:\n",
    "\n",
    "    model = PCA(n_components=n)\n",
    "    scores = cv_score(model, data)\n",
    "        \n",
    "Обратите внимание, что scores -- это вектор, длина которого равна числу фолдов. Для получения оценки на правдоподобие модели его значения требуется усреднить.\n",
    "\n",
    "Для визуализации оценок можете использовать следующую функцию:\n",
    "\n",
    "    plot_scores(d_scores)\n",
    "    \n",
    "которой на вход передаётся вектор полученных оценок логарифма правдоподобия данных для каждого $\\hat{d}$.\n",
    "\n",
    "Для интересующихся: данные для заданий 1 и 2 были сгенерированны в соответствии с предполагаемой PCA моделью. То есть: данные $Y$ с эффективной размерностью $d$, полученные из независимых равномерных распределений, линейно траснформированны случайной матрицей $W$ в пространство размерностью $D$, после чего ко всем признакам был добавлен независимый нормальный шум с дисперсией $\\sigma$."
   ]
  },
  {
   "cell_type": "code",
   "execution_count": 7,
   "metadata": {},
   "outputs": [
    {
     "data": {
      "image/png": "[encoded data removed]",
      "text/plain": [
       "<Figure size 432x288 with 1 Axes>"
      ]
     },
     "metadata": {
      "needs_background": "light"
     },
     "output_type": "display_data"
    }
   ],
   "source": [
    "from sklearn.decomposition import PCA\n",
    "from sklearn.model_selection import cross_val_score as cv_score\n",
    "\n",
    "def plot_scores(d_scores):\n",
    "    n_components = np.arange(1,len(d_scores)+1)\n",
    "    plt.plot(n_components, d_scores, 'b', label='PCA scores')\n",
    "    plt.xlim(n_components[0], n_components[-1])\n",
    "    plt.xlabel('n components')\n",
    "    plt.ylabel('cv scores')\n",
    "    plt.legend(loc='lower right')\n",
    "    plt.show()\n",
    "    \n",
    "def write_answer_1(optimal_d):\n",
    "    with open(\"pca_answer1.txt\", \"w\") as fout:\n",
    "        fout.write(str(optimal_d))\n",
    "        \n",
    "data = pd.read_csv('data_task1.csv')\n",
    "\n",
    "# place your code here\n",
    "D = data.shape[1] # исходная размерность\n",
    "d_scores = []\n",
    "for d in range(1,D+1): # 0 не имеет смысл, и D тоже должен войти в перебор\n",
    "    #print(d)\n",
    "    model = PCA(n_components=d)\n",
    "    scores = cv_score(model, data)\n",
    "    d_scores.append(np.mean(scores))\n",
    "    \n",
    "plot_scores(d_scores)\n",
    "\n",
    "write_answer_1(np.argmax(d_scores)+1)"
   ]
  },
  {
   "cell_type": "markdown",
   "metadata": {},
   "source": [
    "## Вариационный взгляд на модель\n",
    "\n",
    "Мы знаем, что каждой главной компоненте соответствует описываемая ей дисперсия данных (дисперсия данных при проекции на эту компоненту). Она численно равна значению диагональных элементов матрицы $\\Lambda$, получаемой из спектрального разложения матрицы ковариации данных (смотри теорию выше).\n",
    "\n",
    "Исходя из этого, мы можем отсортировать дисперсию данных вдоль этих компонент по убыванию, и уменьшить размерность данных, отбросив $q$ итоговых главных компонент, имеющих наименьшую дисперсию.\n",
    "\n",
    "Делать это можно двумя разными способами. Например, если вы вдальнейшем обучаете на данных с уменьшенной размерностью модель классификации или регрессии, то можно запустить итерационный процесс: удалять компоненты с наименьшей дисперсией по одной, пока качество итоговой модели не станет значительно хуже.\n",
    "\n",
    "Более общий способ отбора признаков заключается в том, что вы можете посмотреть на разности в дисперсиях в отсортированном ряде $\\lambda_{(1)} > \\lambda_{(2)} > \\dots > \\lambda_{(D)}$: $\\lambda_{(1)}-\\lambda_{(2)}, \\dots, \\lambda_{(D-1)} - \\lambda_{(D)}$, и удалить те компоненты, на которых разность будет наибольшей. Именно этим методом вам и предлагается воспользоваться для тестового набора данных."
   ]
  },
  {
   "cell_type": "markdown",
   "metadata": {},
   "source": [
    "## Задание 2. Ручное уменьшение размерности признаков посредством анализа дисперсии данных вдоль главных компонент\n",
    "\n",
    "Рассмотрим ещё один набор данных размерности $D$, чья реальная размерность значительно меньше наблюдаемой (назовём её также $d$). От вас требуется:\n",
    "\n",
    "1. Построить модель PCA с $D$ главными компонентами по этим данным.\n",
    "2. Спроецировать данные на главные компоненты.\n",
    "3. Оценить их дисперсию вдоль главных компонент.\n",
    "4. Отсортировать дисперсии в порядке убывания и получить их попарные разности: $\\lambda_{(i-1)} - \\lambda_{(i)}$.\n",
    "5. Найти разность с наибольшим значением и получить по ней оценку на эффективную размерность данных $\\hat{d}$.\n",
    "6. Построить график дисперсий и убедиться, что полученная оценка на $\\hat{d}_{opt}$ действительно имеет смысл, после этого внести полученное значение $\\hat{d}_{opt}$ в файл ответа.\n",
    "\n",
    "Для построения модели PCA используйте функцию:\n",
    "\n",
    "    model.fit(data)\n",
    "    \n",
    "Для трансформации данных используйте метод:\n",
    "\n",
    "    model.transform(data)\n",
    "    \n",
    "Оценку дисперсий на трансформированных данных от вас потребуется реализовать вручную. Для построения графиков можно воспользоваться функцией\n",
    "\n",
    "    plot_variances(d_variances)\n",
    "    \n",
    "которой следует передать на вход отсортированный по убыванию вектор дисперсий вдоль компонент."
   ]
  },
  {
   "cell_type": "code",
   "execution_count": 8,
   "metadata": {},
   "outputs": [],
   "source": [
    "from sklearn.decomposition import PCA\n",
    "from sklearn.model_selection import cross_val_score as cv_score\n",
    "\n",
    "def plot_variances(d_variances):\n",
    "    n_components = np.arange(1,d_variances.size+1)\n",
    "    plt.plot(n_components, d_variances, 'b', label='Component variances')\n",
    "    plt.xlim(n_components[0], n_components[-1])\n",
    "    plt.xlabel('n components')\n",
    "    plt.ylabel('variance')\n",
    "    plt.legend(loc='upper right')\n",
    "    plt.show()\n",
    "    \n",
    "def write_answer_2(optimal_d):\n",
    "    with open(\"pca_answer2.txt\", \"w\") as fout:\n",
    "        fout.write(str(optimal_d))\n",
    "        \n",
    "data = pd.read_csv('data_task2.csv')\n",
    "\n",
    "# place your code here\n",
    "pass"
   ]
  },
  {
   "cell_type": "code",
   "execution_count": 9,
   "metadata": {},
   "outputs": [],
   "source": [
    "D = data.shape[1]\n",
    "model = PCA(n_components=D)\n",
    "model.fit(data)\n",
    "transformed_data = model.transform(data)"
   ]
  },
  {
   "cell_type": "code",
   "execution_count": 10,
   "metadata": {},
   "outputs": [
    {
     "data": {
      "text/plain": [
       "array([[-1.23177569e-01,  1.25075807e-01, -3.04446946e-02, ...,\n",
       "         1.79826817e-04,  1.91493792e-01,  4.90375148e-02],\n",
       "       [ 1.41538981e-01, -1.13208777e-02,  2.45653475e-01, ...,\n",
       "        -6.47221506e-02, -1.95084103e-03, -9.22325772e-02],\n",
       "       [-3.48536142e-02,  1.74402801e-01,  8.14426810e-02, ...,\n",
       "        -4.78276953e-02,  4.29959837e-03, -7.00708767e-02],\n",
       "       ...,\n",
       "       [-1.67710847e-02,  1.85203516e-02, -1.53491497e-01, ...,\n",
       "        -2.46468510e-01, -1.24020387e-01, -5.84471765e-02],\n",
       "       [ 8.04250282e-02, -1.04271010e-01, -1.36375083e-01, ...,\n",
       "         7.40685717e-02, -1.45288831e-01,  1.30184131e-01],\n",
       "       [ 9.50561635e-02,  2.23986354e-01,  3.47598788e-02, ...,\n",
       "         1.81622727e-01, -1.96607448e-01,  1.10663286e-01]])"
      ]
     },
     "execution_count": 10,
     "metadata": {},
     "output_type": "execute_result"
    }
   ],
   "source": [
    "model.components_"
   ]
  },
  {
   "cell_type": "markdown",
   "metadata": {},
   "source": [
    "(А.П.) Взято с сайта http://www.machinelearning.ru/wiki/index.php?title=%D0%9C%D0%B5%D1%82%D0%BE%D0%B4_%D0%B3%D0%BB%D0%B0%D0%B2%D0%BD%D1%8B%D1%85_%D0%BA%D0%BE%D0%BC%D0%BF%D0%BE%D0%BD%D0%B5%D0%BD%D1%82\n",
    "\n",
    "Выборочная дисперсия вдоль вдоль направления, заданного нормированным вектором  $a_k$, это:\n",
    "\n",
    "$S^2_m(X, a_k) = 1/m \\sum_{i=1}^{m} (\\sum_{j=1}^{n}x_{i,j}a_{k,j})^2$,\n",
    "\n",
    "то есть нормированная сумма по всем объектам квадрата скалярного произведения вектора объекта в пространстве на избранное направление (компоненту)."
   ]
  },
  {
   "cell_type": "code",
   "execution_count": 11,
   "metadata": {},
   "outputs": [
    {
     "data": {
      "text/plain": [
       "-0.30609687116746653"
      ]
     },
     "execution_count": 11,
     "metadata": {},
     "output_type": "execute_result"
    }
   ],
   "source": [
    "components = model.components_\n",
    "k = 0\n",
    "i = 0\n",
    "component = components[k]\n",
    "x = data.iloc[i]\n",
    "#pd.DataFrame\n",
    "np.dot(x, component)"
   ]
  },
  {
   "cell_type": "code",
   "execution_count": 12,
   "metadata": {},
   "outputs": [
    {
     "data": {
      "text/plain": [
       "0.06812447885174072"
      ]
     },
     "execution_count": 12,
     "metadata": {},
     "output_type": "execute_result"
    }
   ],
   "source": [
    "k = 0\n",
    "component = components[k]\n",
    "s = 0\n",
    "for i in data:\n",
    "    #print(type(i))\n",
    "    x = data.iloc[int(i)]\n",
    "    #print(np.dot(x, component)**2)\n",
    "    s += np.dot(x, component)**2\n",
    "\n",
    "s /= data.shape[0]\n",
    "s"
   ]
  },
  {
   "cell_type": "code",
   "execution_count": 13,
   "metadata": {},
   "outputs": [
    {
     "data": {
      "text/plain": [
       "array([2.45300783, 2.34721594, 2.32837423, 2.29215638, 2.26058883,\n",
       "       2.23673763, 2.23054413, 2.16149946, 2.12419737, 2.11722001,\n",
       "       2.101506  , 2.08661632, 2.06952524, 2.01874997, 2.01569559,\n",
       "       1.9975306 , 1.98999226, 1.97267641, 1.96145946, 1.93571547,\n",
       "       1.91127464, 1.88088269, 1.87313498, 1.86100004, 1.83748995,\n",
       "       1.83102547, 1.76695482, 1.75990976, 1.70900529, 1.67441869,\n",
       "       1.30213235, 1.27412642, 1.25988718, 1.24829741, 1.2373551 ,\n",
       "       1.22655268, 1.2160363 , 1.20337612, 1.19178072, 1.17704893,\n",
       "       1.17152643, 1.1596937 , 1.14421427, 1.13733863, 1.1280918 ,\n",
       "       1.12091597, 1.11941323, 1.10887359, 1.10153552, 1.09280867,\n",
       "       1.08081406, 1.071599  , 1.06894519, 1.05953135, 1.05917675,\n",
       "       1.03999244, 1.03181196, 1.02157178, 1.01563714, 1.00589789,\n",
       "       1.00414164, 0.99383921, 0.98822987, 0.9841911 , 0.98022019,\n",
       "       0.96913754, 0.96047364, 0.95574247, 0.9486803 , 0.94342659,\n",
       "       0.94097477, 0.93152563, 0.92430892, 0.92160925, 0.91402299,\n",
       "       0.9108494 , 0.90549165, 0.89290254, 0.8845041 , 0.88375427,\n",
       "       0.86944262, 0.86451103, 0.85899869, 0.85781495, 0.84775545,\n",
       "       0.83709426, 0.82127501, 0.81780833, 0.81143068, 0.80679308,\n",
       "       0.79707274, 0.79096824, 0.78836759, 0.78037885, 0.76733455,\n",
       "       0.76127863, 0.75995892, 0.75418212, 0.73440675, 0.72856754])"
      ]
     },
     "execution_count": 13,
     "metadata": {},
     "output_type": "execute_result"
    }
   ],
   "source": [
    "model.explained_variance_"
   ]
  },
  {
   "cell_type": "code",
   "execution_count": 14,
   "metadata": {},
   "outputs": [
    {
     "data": {
      "image/png": "[encoded data removed]",
      "text/plain": [
       "<Figure size 432x288 with 1 Axes>"
      ]
     },
     "metadata": {
      "needs_background": "light"
     },
     "output_type": "display_data"
    }
   ],
   "source": [
    "plot_variances(model.explained_variance_)"
   ]
  },
  {
   "cell_type": "code",
   "execution_count": 15,
   "metadata": {},
   "outputs": [
    {
     "name": "stdout",
     "output_type": "stream",
     "text": [
      "30\n"
     ]
    }
   ],
   "source": [
    "l = []\n",
    "ex_var = model.explained_variance_\n",
    "for i, el in enumerate(model.explained_variance_[:-1]):\n",
    "    l.append(ex_var[i+1]-ex_var[i])\n",
    "l = np.array(l)\n",
    "print(l.argmin()+1)"
   ]
  },
  {
   "cell_type": "code",
   "execution_count": 16,
   "metadata": {},
   "outputs": [],
   "source": [
    "write_answer_2(l.argmin()+1)"
   ]
  },
  {
   "cell_type": "markdown",
   "metadata": {},
   "source": [
    "## Интерпретация главных компонент\n",
    "\n",
    "В качестве главных компонент мы получаем линейные комбинации исходных призанков, поэтому резонно возникает вопрос об их интерпретации.\n",
    "\n",
    "Для этого существует несколько подходов, мы рассмотрим два:\n",
    "- рассчитать взаимосвязи главных компонент с исходными признаками\n",
    "- рассчитать вклады каждого конкретного наблюдения в главные компоненты\n",
    "\n",
    "Первый способ подходит в том случае, когда все объекты из набора данных не несут для нас никакой семантической информации, которая уже не запечатлена в наборе признаков.\n",
    "\n",
    "Второй способ подходит для случая, когда данные имеют более сложную структуру. Например, лица для человека несут больший семантический смысл, чем вектор значений пикселей, которые анализирует PCA.\n",
    "\n",
    "Рассмотрим подробнее способ 1: он заключается в подсчёте коэффициентов корреляций между исходными признаками и набором главных компонент.\n",
    "\n",
    "Так как метод главных компонент является линейным, то предлагается для анализа использовать корреляцию Пирсона, выборочный аналог которой имеет следующую формулу:\n",
    "\n",
    "$$r_{jk} = \\frac{\\sum_{i=1}^N (x_{ij} - \\bar{x}_j) (y_{ik} - \\bar{y}_k)}{\\sqrt{\\sum_{i=1}^N (x_{ij} - \\bar{x}_j)^2 \\sum_{i=1}^N (y_{ik} - \\bar{y}_k)^2}} $$\n",
    "\n",
    "где:\n",
    "- $\\bar{x}_j$ -- среднее значение j-го признака,\n",
    "- $\\bar{y}_k$ -- среднее значение проекции на k-ю главную компоненту.\n",
    "\n",
    "Корреляция Пирсона является мерой линейной зависимости. Она равна 0 в случае, когда величины независимы, и $\\pm 1$, если они линейно зависимы. Исходя из степени корреляции новой компоненты с исходными признаками, можно строить её семантическую интерпретацию, т.к. смысл исходных признаков мы знаем."
   ]
  },
  {
   "cell_type": "markdown",
   "metadata": {},
   "source": [
    "## Задание 3. Анализ главных компонент при помощи корреляций с исходными признаками.\n",
    "\n",
    "1. Обучите метод главных компонент на датасете iris, получите преобразованные данные.\n",
    "2. Посчитайте корреляции исходных признаков с их проекциями на первые две главные компоненты.\n",
    "3. Для каждого признака найдите компоненту (из двух построенных), с которой он коррелирует больше всего.\n",
    "4. На основании п.3 сгруппируйте признаки по компонентам. Составьте два списка: список номеров признаков, которые сильнее коррелируют с первой компонентой, и такой же список для второй. Нумерацию начинать с единицы. Передайте оба списка функции write_answer_3.\n",
    "\n",
    "Набор данных состоит из 4 признаков, посчитанных для 150 ирисов. Каждый из них принадлежит одному из трёх видов. Визуализацию проекции данного датасета на две компоненты, которые описывают наибольшую дисперсию данных, можно получить при помощи функции\n",
    "\n",
    "    plot_iris(transformed_data, target, target_names)\n",
    "    \n",
    "на вход которой требуется передать данные, преобразованные при помощи PCA, а также информацию о классах. Цвет точек отвечает одному из трёх видов ириса.\n",
    "\n",
    "Для того чтобы получить имена исходных признаков, используйте следующий список:\n",
    "\n",
    "    iris.feature_names\n",
    "    \n",
    "При подсчёте корреляций не забудьте центрировать признаки и проекции на главные компоненты (вычитать из них среднее)."
   ]
  },
  {
   "cell_type": "code",
   "execution_count": 74,
   "metadata": {},
   "outputs": [],
   "source": [
    "from sklearn import datasets\n",
    "\n",
    "def plot_iris(transformed_data, target, target_names):\n",
    "    plt.figure()\n",
    "    for c, i, target_name in zip(\"rgb\", [0, 1, 2], target_names):\n",
    "        plt.scatter(transformed_data[target == i, 0],\n",
    "                    transformed_data[target == i, 1], c=c, label=target_name)\n",
    "    plt.legend()\n",
    "    plt.show()\n",
    "    \n",
    "def write_answer_3(list_pc1, list_pc2):\n",
    "    with open(\"pca_answer3.txt\", \"w\") as fout:\n",
    "        fout.write(\" \".join([str(num) for num in list_pc1]))\n",
    "        fout.write(\" \")\n",
    "        fout.write(\" \".join([str(num) for num in list_pc2]))\n",
    "\n",
    "# загрузим датасет iris\n",
    "iris = datasets.load_iris()\n",
    "data = iris.data\n",
    "target = iris.target\n",
    "target_names = iris.target_names"
   ]
  },
  {
   "cell_type": "code",
   "execution_count": 18,
   "metadata": {},
   "outputs": [],
   "source": [
    "model = PCA(n_components=2) # всего 2 компоненты\n",
    "model.fit(data)\n",
    "transformed_data = model.transform(data)"
   ]
  },
  {
   "cell_type": "code",
   "execution_count": 19,
   "metadata": {},
   "outputs": [
    {
     "data": {
      "image/png": "[encoded data removed]",
      "text/plain": [
       "<Figure size 432x288 with 1 Axes>"
      ]
     },
     "metadata": {
      "needs_background": "light"
     },
     "output_type": "display_data"
    }
   ],
   "source": [
    "plot_iris(transformed_data, target, target_names)"
   ]
  },
  {
   "cell_type": "code",
   "execution_count": 22,
   "metadata": {},
   "outputs": [
    {
     "data": {
      "text/plain": [
       "(150, 4)"
      ]
     },
     "execution_count": 22,
     "metadata": {},
     "output_type": "execute_result"
    }
   ],
   "source": [
    "data.shape # всего 150 объектов, 4 признака"
   ]
  },
  {
   "cell_type": "markdown",
   "metadata": {},
   "source": [
    "Таким образом в нашем случае, $i$ от 0 до 149, $j$ от 0 до 3, $k$ от 0 до 1."
   ]
  },
  {
   "cell_type": "code",
   "execution_count": 64,
   "metadata": {},
   "outputs": [
    {
     "data": {
      "text/plain": [
       "array([[5.1, 3.5, 1.4, 0.2],\n",
       "       [4.9, 3. , 1.4, 0.2],\n",
       "       [4.7, 3.2, 1.3, 0.2],\n",
       "       [4.6, 3.1, 1.5, 0.2],\n",
       "       [5. , 3.6, 1.4, 0.2],\n",
       "       [5.4, 3.9, 1.7, 0.4],\n",
       "       [4.6, 3.4, 1.4, 0.3],\n",
       "       [5. , 3.4, 1.5, 0.2],\n",
       "       [4.4, 2.9, 1.4, 0.2],\n",
       "       [4.9, 3.1, 1.5, 0.1],\n",
       "       [5.4, 3.7, 1.5, 0.2],\n",
       "       [4.8, 3.4, 1.6, 0.2],\n",
       "       [4.8, 3. , 1.4, 0.1],\n",
       "       [4.3, 3. , 1.1, 0.1],\n",
       "       [5.8, 4. , 1.2, 0.2],\n",
       "       [5.7, 4.4, 1.5, 0.4],\n",
       "       [5.4, 3.9, 1.3, 0.4],\n",
       "       [5.1, 3.5, 1.4, 0.3],\n",
       "       [5.7, 3.8, 1.7, 0.3],\n",
       "       [5.1, 3.8, 1.5, 0.3],\n",
       "       [5.4, 3.4, 1.7, 0.2],\n",
       "       [5.1, 3.7, 1.5, 0.4],\n",
       "       [4.6, 3.6, 1. , 0.2],\n",
       "       [5.1, 3.3, 1.7, 0.5],\n",
       "       [4.8, 3.4, 1.9, 0.2],\n",
       "       [5. , 3. , 1.6, 0.2],\n",
       "       [5. , 3.4, 1.6, 0.4],\n",
       "       [5.2, 3.5, 1.5, 0.2],\n",
       "       [5.2, 3.4, 1.4, 0.2],\n",
       "       [4.7, 3.2, 1.6, 0.2],\n",
       "       [4.8, 3.1, 1.6, 0.2],\n",
       "       [5.4, 3.4, 1.5, 0.4],\n",
       "       [5.2, 4.1, 1.5, 0.1],\n",
       "       [5.5, 4.2, 1.4, 0.2],\n",
       "       [4.9, 3.1, 1.5, 0.2],\n",
       "       [5. , 3.2, 1.2, 0.2],\n",
       "       [5.5, 3.5, 1.3, 0.2],\n",
       "       [4.9, 3.6, 1.4, 0.1],\n",
       "       [4.4, 3. , 1.3, 0.2],\n",
       "       [5.1, 3.4, 1.5, 0.2],\n",
       "       [5. , 3.5, 1.3, 0.3],\n",
       "       [4.5, 2.3, 1.3, 0.3],\n",
       "       [4.4, 3.2, 1.3, 0.2],\n",
       "       [5. , 3.5, 1.6, 0.6],\n",
       "       [5.1, 3.8, 1.9, 0.4],\n",
       "       [4.8, 3. , 1.4, 0.3],\n",
       "       [5.1, 3.8, 1.6, 0.2],\n",
       "       [4.6, 3.2, 1.4, 0.2],\n",
       "       [5.3, 3.7, 1.5, 0.2],\n",
       "       [5. , 3.3, 1.4, 0.2],\n",
       "       [7. , 3.2, 4.7, 1.4],\n",
       "       [6.4, 3.2, 4.5, 1.5],\n",
       "       [6.9, 3.1, 4.9, 1.5],\n",
       "       [5.5, 2.3, 4. , 1.3],\n",
       "       [6.5, 2.8, 4.6, 1.5],\n",
       "       [5.7, 2.8, 4.5, 1.3],\n",
       "       [6.3, 3.3, 4.7, 1.6],\n",
       "       [4.9, 2.4, 3.3, 1. ],\n",
       "       [6.6, 2.9, 4.6, 1.3],\n",
       "       [5.2, 2.7, 3.9, 1.4],\n",
       "       [5. , 2. , 3.5, 1. ],\n",
       "       [5.9, 3. , 4.2, 1.5],\n",
       "       [6. , 2.2, 4. , 1. ],\n",
       "       [6.1, 2.9, 4.7, 1.4],\n",
       "       [5.6, 2.9, 3.6, 1.3],\n",
       "       [6.7, 3.1, 4.4, 1.4],\n",
       "       [5.6, 3. , 4.5, 1.5],\n",
       "       [5.8, 2.7, 4.1, 1. ],\n",
       "       [6.2, 2.2, 4.5, 1.5],\n",
       "       [5.6, 2.5, 3.9, 1.1],\n",
       "       [5.9, 3.2, 4.8, 1.8],\n",
       "       [6.1, 2.8, 4. , 1.3],\n",
       "       [6.3, 2.5, 4.9, 1.5],\n",
       "       [6.1, 2.8, 4.7, 1.2],\n",
       "       [6.4, 2.9, 4.3, 1.3],\n",
       "       [6.6, 3. , 4.4, 1.4],\n",
       "       [6.8, 2.8, 4.8, 1.4],\n",
       "       [6.7, 3. , 5. , 1.7],\n",
       "       [6. , 2.9, 4.5, 1.5],\n",
       "       [5.7, 2.6, 3.5, 1. ],\n",
       "       [5.5, 2.4, 3.8, 1.1],\n",
       "       [5.5, 2.4, 3.7, 1. ],\n",
       "       [5.8, 2.7, 3.9, 1.2],\n",
       "       [6. , 2.7, 5.1, 1.6],\n",
       "       [5.4, 3. , 4.5, 1.5],\n",
       "       [6. , 3.4, 4.5, 1.6],\n",
       "       [6.7, 3.1, 4.7, 1.5],\n",
       "       [6.3, 2.3, 4.4, 1.3],\n",
       "       [5.6, 3. , 4.1, 1.3],\n",
       "       [5.5, 2.5, 4. , 1.3],\n",
       "       [5.5, 2.6, 4.4, 1.2],\n",
       "       [6.1, 3. , 4.6, 1.4],\n",
       "       [5.8, 2.6, 4. , 1.2],\n",
       "       [5. , 2.3, 3.3, 1. ],\n",
       "       [5.6, 2.7, 4.2, 1.3],\n",
       "       [5.7, 3. , 4.2, 1.2],\n",
       "       [5.7, 2.9, 4.2, 1.3],\n",
       "       [6.2, 2.9, 4.3, 1.3],\n",
       "       [5.1, 2.5, 3. , 1.1],\n",
       "       [5.7, 2.8, 4.1, 1.3],\n",
       "       [6.3, 3.3, 6. , 2.5],\n",
       "       [5.8, 2.7, 5.1, 1.9],\n",
       "       [7.1, 3. , 5.9, 2.1],\n",
       "       [6.3, 2.9, 5.6, 1.8],\n",
       "       [6.5, 3. , 5.8, 2.2],\n",
       "       [7.6, 3. , 6.6, 2.1],\n",
       "       [4.9, 2.5, 4.5, 1.7],\n",
       "       [7.3, 2.9, 6.3, 1.8],\n",
       "       [6.7, 2.5, 5.8, 1.8],\n",
       "       [7.2, 3.6, 6.1, 2.5],\n",
       "       [6.5, 3.2, 5.1, 2. ],\n",
       "       [6.4, 2.7, 5.3, 1.9],\n",
       "       [6.8, 3. , 5.5, 2.1],\n",
       "       [5.7, 2.5, 5. , 2. ],\n",
       "       [5.8, 2.8, 5.1, 2.4],\n",
       "       [6.4, 3.2, 5.3, 2.3],\n",
       "       [6.5, 3. , 5.5, 1.8],\n",
       "       [7.7, 3.8, 6.7, 2.2],\n",
       "       [7.7, 2.6, 6.9, 2.3],\n",
       "       [6. , 2.2, 5. , 1.5],\n",
       "       [6.9, 3.2, 5.7, 2.3],\n",
       "       [5.6, 2.8, 4.9, 2. ],\n",
       "       [7.7, 2.8, 6.7, 2. ],\n",
       "       [6.3, 2.7, 4.9, 1.8],\n",
       "       [6.7, 3.3, 5.7, 2.1],\n",
       "       [7.2, 3.2, 6. , 1.8],\n",
       "       [6.2, 2.8, 4.8, 1.8],\n",
       "       [6.1, 3. , 4.9, 1.8],\n",
       "       [6.4, 2.8, 5.6, 2.1],\n",
       "       [7.2, 3. , 5.8, 1.6],\n",
       "       [7.4, 2.8, 6.1, 1.9],\n",
       "       [7.9, 3.8, 6.4, 2. ],\n",
       "       [6.4, 2.8, 5.6, 2.2],\n",
       "       [6.3, 2.8, 5.1, 1.5],\n",
       "       [6.1, 2.6, 5.6, 1.4],\n",
       "       [7.7, 3. , 6.1, 2.3],\n",
       "       [6.3, 3.4, 5.6, 2.4],\n",
       "       [6.4, 3.1, 5.5, 1.8],\n",
       "       [6. , 3. , 4.8, 1.8],\n",
       "       [6.9, 3.1, 5.4, 2.1],\n",
       "       [6.7, 3.1, 5.6, 2.4],\n",
       "       [6.9, 3.1, 5.1, 2.3],\n",
       "       [5.8, 2.7, 5.1, 1.9],\n",
       "       [6.8, 3.2, 5.9, 2.3],\n",
       "       [6.7, 3.3, 5.7, 2.5],\n",
       "       [6.7, 3. , 5.2, 2.3],\n",
       "       [6.3, 2.5, 5. , 1.9],\n",
       "       [6.5, 3. , 5.2, 2. ],\n",
       "       [6.2, 3.4, 5.4, 2.3],\n",
       "       [5.9, 3. , 5.1, 1.8]])"
      ]
     },
     "execution_count": 64,
     "metadata": {},
     "output_type": "execute_result"
    }
   ],
   "source": [
    "data"
   ]
  },
  {
   "cell_type": "code",
   "execution_count": 46,
   "metadata": {},
   "outputs": [
    {
     "data": {
      "text/plain": [
       "array([5.1, 4.9, 4.7, 4.6, 5. , 5.4, 4.6, 5. , 4.4, 4.9, 5.4, 4.8, 4.8,\n",
       "       4.3, 5.8, 5.7, 5.4, 5.1, 5.7, 5.1, 5.4, 5.1, 4.6, 5.1, 4.8, 5. ,\n",
       "       5. , 5.2, 5.2, 4.7, 4.8, 5.4, 5.2, 5.5, 4.9, 5. , 5.5, 4.9, 4.4,\n",
       "       5.1, 5. , 4.5, 4.4, 5. , 5.1, 4.8, 5.1, 4.6, 5.3, 5. , 7. , 6.4,\n",
       "       6.9, 5.5, 6.5, 5.7, 6.3, 4.9, 6.6, 5.2, 5. , 5.9, 6. , 6.1, 5.6,\n",
       "       6.7, 5.6, 5.8, 6.2, 5.6, 5.9, 6.1, 6.3, 6.1, 6.4, 6.6, 6.8, 6.7,\n",
       "       6. , 5.7, 5.5, 5.5, 5.8, 6. , 5.4, 6. , 6.7, 6.3, 5.6, 5.5, 5.5,\n",
       "       6.1, 5.8, 5. , 5.6, 5.7, 5.7, 6.2, 5.1, 5.7, 6.3, 5.8, 7.1, 6.3,\n",
       "       6.5, 7.6, 4.9, 7.3, 6.7, 7.2, 6.5, 6.4, 6.8, 5.7, 5.8, 6.4, 6.5,\n",
       "       7.7, 7.7, 6. , 6.9, 5.6, 7.7, 6.3, 6.7, 7.2, 6.2, 6.1, 6.4, 7.2,\n",
       "       7.4, 7.9, 6.4, 6.3, 6.1, 7.7, 6.3, 6.4, 6. , 6.9, 6.7, 6.9, 5.8,\n",
       "       6.8, 6.7, 6.7, 6.3, 6.5, 6.2, 5.9])"
      ]
     },
     "execution_count": 46,
     "metadata": {},
     "output_type": "execute_result"
    }
   ],
   "source": [
    "data[:,j]  # все значения j-ого признака"
   ]
  },
  {
   "cell_type": "code",
   "execution_count": 47,
   "metadata": {},
   "outputs": [
    {
     "data": {
      "text/plain": [
       "5.843333333333334"
      ]
     },
     "execution_count": 47,
     "metadata": {},
     "output_type": "execute_result"
    }
   ],
   "source": [
    "j_mean = np.mean(data[:,j]) # среднее значение j-ого признака\n",
    "j_mean"
   ]
  },
  {
   "cell_type": "code",
   "execution_count": 50,
   "metadata": {},
   "outputs": [
    {
     "data": {
      "text/plain": [
       "array([-2.68412563, -2.71414169, -2.88899057, -2.74534286, -2.72871654,\n",
       "       -2.28085963, -2.82053775, -2.62614497, -2.88638273, -2.6727558 ,\n",
       "       -2.50694709, -2.61275523, -2.78610927, -3.22380374, -2.64475039,\n",
       "       -2.38603903, -2.62352788, -2.64829671, -2.19982032, -2.5879864 ,\n",
       "       -2.31025622, -2.54370523, -3.21593942, -2.30273318, -2.35575405,\n",
       "       -2.50666891, -2.46882007, -2.56231991, -2.63953472, -2.63198939,\n",
       "       -2.58739848, -2.4099325 , -2.64886233, -2.59873675, -2.63692688,\n",
       "       -2.86624165, -2.62523805, -2.80068412, -2.98050204, -2.59000631,\n",
       "       -2.77010243, -2.84936871, -2.99740655, -2.40561449, -2.20948924,\n",
       "       -2.71445143, -2.53814826, -2.83946217, -2.54308575, -2.70335978,\n",
       "        1.28482569,  0.93248853,  1.46430232,  0.18331772,  1.08810326,\n",
       "        0.64166908,  1.09506066, -0.74912267,  1.04413183, -0.0087454 ,\n",
       "       -0.50784088,  0.51169856,  0.26497651,  0.98493451, -0.17392537,\n",
       "        0.92786078,  0.66028376,  0.23610499,  0.94473373,  0.04522698,\n",
       "        1.11628318,  0.35788842,  1.29818388,  0.92172892,  0.71485333,\n",
       "        0.90017437,  1.33202444,  1.55780216,  0.81329065, -0.30558378,\n",
       "       -0.06812649, -0.18962247,  0.13642871,  1.38002644,  0.58800644,\n",
       "        0.80685831,  1.22069088,  0.81509524,  0.24595768,  0.16641322,\n",
       "        0.46480029,  0.8908152 ,  0.23054802, -0.70453176,  0.35698149,\n",
       "        0.33193448,  0.37621565,  0.64257601, -0.90646986,  0.29900084,\n",
       "        2.53119273,  1.41523588,  2.61667602,  1.97153105,  2.35000592,\n",
       "        3.39703874,  0.52123224,  2.93258707,  2.32122882,  2.91675097,\n",
       "        1.66177415,  1.80340195,  2.1655918 ,  1.34616358,  1.58592822,\n",
       "        1.90445637,  1.94968906,  3.48705536,  3.79564542,  1.30079171,\n",
       "        2.42781791,  1.19900111,  3.49992004,  1.38876613,  2.2754305 ,\n",
       "        2.61409047,  1.25850816,  1.29113206,  2.12360872,  2.38800302,\n",
       "        2.84167278,  3.23067366,  2.15943764,  1.44416124,  1.78129481,\n",
       "        3.07649993,  2.14424331,  1.90509815,  1.16932634,  2.10761114,\n",
       "        2.31415471,  1.9222678 ,  1.41523588,  2.56301338,  2.41874618,\n",
       "        1.94410979,  1.52716661,  1.76434572,  1.90094161,  1.39018886])"
      ]
     },
     "execution_count": 50,
     "metadata": {},
     "output_type": "execute_result"
    }
   ],
   "source": [
    "transformed_data[:,k] # все значения k-ой компоненты трансформированных признаков"
   ]
  },
  {
   "cell_type": "code",
   "execution_count": 51,
   "metadata": {},
   "outputs": [
    {
     "data": {
      "text/plain": [
       "-3.126388037344441e-15"
      ]
     },
     "execution_count": 51,
     "metadata": {},
     "output_type": "execute_result"
    }
   ],
   "source": [
    "k_mean = np.mean(transformed_data[:,k]) # среднее значение k-ой компоненты трансформированных признаков\n",
    "k_mean # получается в районе машинного нуля"
   ]
  },
  {
   "cell_type": "code",
   "execution_count": 58,
   "metadata": {},
   "outputs": [
    {
     "name": "stdout",
     "output_type": "stream",
     "text": [
      "Верхняя сумма:\n",
      "227.67644904891498\n",
      "Нижняя сумма:\n",
      "253.70626479725485\n",
      "Корреляция\n",
      "0.8974017619582979\n"
     ]
    }
   ],
   "source": [
    "s_up = 0 # верхняя сумма в выражении\n",
    "for i in range(data.shape[0]):\n",
    "    s_up += (data[i,j]-j_mean)*(transformed_data[i,k]-k_mean)\n",
    "print(\"Верхняя сумма:\")\n",
    "print(s_up)\n",
    "\n",
    "s_down = 0 # частное в выражении\n",
    "s_x = 0 # сумма квадратов по x\n",
    "s_y = 0 # сумма квадратов по y\n",
    "for i in range(data.shape[0]):\n",
    "    s_x += (data[i,j]-j_mean)**2\n",
    "    s_y += (transformed_data[i,k]-k_mean)**2\n",
    "s_down = (s_x*s_y)**0.5\n",
    "print(\"Нижняя сумма:\")\n",
    "print(s_down)\n",
    "r = s_up / s_down\n",
    "print(\"Корреляция\")\n",
    "print(r)"
   ]
  },
  {
   "cell_type": "code",
   "execution_count": 101,
   "metadata": {},
   "outputs": [],
   "source": [
    "def pirson_correlation(j, k, x, y): # реализует формулу выборочного аналога корреляции Пирсона\n",
    "    print(\"j = \" + str(j) + \", \" + \"k = \" + str(k))\n",
    "    x_j = np.mean(x[:,j])\n",
    "    y_k = np.mean(y[:,k])\n",
    "    s_up = 0 # верхняя сумма в выражении\n",
    "    for i in range(x.shape[0]):\n",
    "        s_up += (x[i,j]-x_j)*(y[i,k]-y_k)\n",
    "    #print(\"Верхняя сумма:\")\n",
    "    #print(s_up)\n",
    "\n",
    "    s_down = 0 # частное в выражении\n",
    "    s_x = 0 # сумма квадратов по x\n",
    "    s_y = 0 # сумма квадратов по y\n",
    "    for i in range(x.shape[0]):\n",
    "        s_x += (x[i,j]-x_j)**2\n",
    "        s_y += (y[i,k]-y_k)**2\n",
    "    s_down = (s_x*s_y)**0.5\n",
    "    #print(\"Нижняя сумма:\")\n",
    "    #print(s_down)\n",
    "    r = s_up / s_down\n",
    "    print(\"Корреляция: \" + str(r))\n",
    "    return(r)\n",
    "    "
   ]
  },
  {
   "cell_type": "code",
   "execution_count": 102,
   "metadata": {},
   "outputs": [
    {
     "name": "stdout",
     "output_type": "stream",
     "text": [
      "j = 0, k = 0\n",
      "Корреляция: 0.8974017619582979\n"
     ]
    },
    {
     "data": {
      "text/plain": [
       "0.8974017619582979"
      ]
     },
     "execution_count": 102,
     "metadata": {},
     "output_type": "execute_result"
    }
   ],
   "source": [
    "pirson_correlation(0, 0, data, transformed_data) "
   ]
  },
  {
   "cell_type": "markdown",
   "metadata": {},
   "source": [
    "Для каждого признака находим компоненту (из двух построенных), с которой он коррелирует больше всего:"
   ]
  },
  {
   "cell_type": "markdown",
   "metadata": {},
   "source": [
    "Пробуем найти максимальную корреляцию для одного исходного признака:"
   ]
  },
  {
   "cell_type": "code",
   "execution_count": 103,
   "metadata": {},
   "outputs": [
    {
     "name": "stdout",
     "output_type": "stream",
     "text": [
      "j = 0, k = 0\n",
      "Корреляция: 0.8974017619582979\n",
      "j = 0, k = 1\n",
      "Корреляция: 0.39060441288849307\n"
     ]
    },
    {
     "data": {
      "text/plain": [
       "[[1], []]"
      ]
     },
     "execution_count": 103,
     "metadata": {},
     "output_type": "execute_result"
    }
   ],
   "source": [
    "l1 = [] # сюда складываем индексы исходных признаков, которые имеют большую корреляцию с первой компонентой\n",
    "l2 = [] # сюда складываем индексы исходных признаков, которые имеют большую корреляцию со второй компонентой\n",
    "l = [l1, l2]\n",
    "# нумерация исходных признаков записываем с единицы (а не с нуля)!\n",
    "\n",
    "j = 0 # для одного признака\n",
    "corr_arr = []\n",
    "for k in range(transformed_data.shape[1]):\n",
    "    corr_arr.append(pirson_correlation(j, k, data, transformed_data))\n",
    "corr_arr = np.abs(np.array(corr_arr)) # берем модуль, так как корреляция от -1 до 1\n",
    "highest_correlation_k = corr_arr.argmax()\n",
    "l[highest_correlation_k].append(j+1) # нумерация с 1\n",
    "l"
   ]
  },
  {
   "cell_type": "code",
   "execution_count": 104,
   "metadata": {},
   "outputs": [
    {
     "name": "stdout",
     "output_type": "stream",
     "text": [
      "j = 0, k = 0\n",
      "Корреляция: 0.8974017619582979\n",
      "j = 0, k = 1\n",
      "Корреляция: 0.39060441288849307\n",
      "j = 1, k = 0\n",
      "Корреляция: -0.39874847245570016\n",
      "j = 1, k = 1\n",
      "Корреляция: 0.825228709231998\n",
      "j = 2, k = 0\n",
      "Корреляция: 0.9978739422413104\n",
      "j = 2, k = 1\n",
      "Корреляция: -0.04838059968989104\n",
      "j = 3, k = 0\n",
      "Корреляция: 0.9665475167033066\n",
      "j = 3, k = 1\n",
      "Корреляция: -0.04878160292939465\n"
     ]
    },
    {
     "data": {
      "text/plain": [
       "[[1, 3, 4], [2]]"
      ]
     },
     "execution_count": 104,
     "metadata": {},
     "output_type": "execute_result"
    }
   ],
   "source": [
    "l1 = [] # сюда складываем индексы исходных признаков, которые имеют большую корреляцию с первой компонентой\n",
    "l2 = [] # сюда складываем индексы исходных признаков, которые имеют большую корреляцию со второй компонентой\n",
    "l = [l1, l2] \n",
    "# нумерация исходных признаков записываем с единицы (а не с нуля)!\n",
    "\n",
    "for j in range(data.shape[1]):\n",
    "    corr_arr = []\n",
    "    for k in range(transformed_data.shape[1]):\n",
    "        corr_arr.append(pirson_correlation(j, k, data, transformed_data))\n",
    "    corr_arr = np.abs(np.array(corr_arr)) # берем модуль, так как корреляция от -1 до 1\n",
    "    highest_correlation_k = corr_arr.argmax()\n",
    "    l[highest_correlation_k].append(j+1) # нумерация с 1\n",
    "l"
   ]
  },
  {
   "cell_type": "code",
   "execution_count": 98,
   "metadata": {},
   "outputs": [],
   "source": [
    "write_answer_3(l[0], l[1])"
   ]
  },
  {
   "cell_type": "markdown",
   "metadata": {},
   "source": [
    "## Интерпретация главных компонент с использованием данных\n",
    "\n",
    "Рассмотрим теперь величину, которую можно проинтерпретировать, как квадрат косинуса угла между объектом выборки и главной компонентой:\n",
    "\n",
    "$$ cos^2_{ik} = \\frac{f_{ik}^2}{\\sum_{\\ell=1}^d f_{i\\ell}^2} $$\n",
    "\n",
    "где\n",
    "- i -- номер объекта\n",
    "- k -- номер главной компоненты\n",
    "- $f_{ik}$ -- модуль центрированной проекции объекта на компоненту\n",
    "\n",
    "Очевидно, что\n",
    "\n",
    "$$ \\sum_{k=1}^d cos^2_{ik} = 1 $$\n",
    "\n",
    "Это значит, что для каждого объекта мы в виде данной величины получили веса, пропорциональные вкладу, которую вносит данный объект в дисперсию каждой компоненты. Чем больше вклад, тем более значим объект для описания конкретной главной компоненты."
   ]
  },
  {
   "cell_type": "markdown",
   "metadata": {},
   "source": [
    "## Задание 4. Анализ главных компонент при помощи вкладов в их дисперсию отдельных объектов\n",
    "\n",
    "1. Загрузите датасет лиц Olivetti Faces и обучите на нём модель RandomizedPCA (используется при большом количестве признаков и работает быстрее, чем обычный PCA). Получите проекции признаков на 10 первых главных компонент.\n",
    "2. Посчитайте для каждого объекта его относительный вклад в дисперсию каждой из 10 компонент, используя формулу из предыдущего раздела (d = 10).\n",
    "3. Для каждой компоненты найдите и визуализируйте лицо, которое вносит наибольший относительный вклад в неё. Для визуализации используйте функцию\n",
    "\n",
    "        plt.imshow(image.reshape(image_shape))\n",
    "        \n",
    "4. Передайте в функцию write_answer_4 список номеров лиц с наибольшим относительным вкладом в дисперсию каждой из компонент, список начинается с 0."
   ]
  },
  {
   "cell_type": "code",
   "execution_count": 116,
   "metadata": {
    "scrolled": true
   },
   "outputs": [],
   "source": [
    "from sklearn.datasets import fetch_olivetti_faces\n",
    "from sklearn.decomposition import PCA\n",
    "\n",
    "def write_answer_4(list_pc):\n",
    "    with open(\"pca_answer4.txt\", \"w\") as fout:\n",
    "        fout.write(\" \".join([str(num) for num in list_pc]))\n",
    "\n",
    "data = fetch_olivetti_faces(shuffle=True, random_state=0).data\n",
    "image_shape = (64, 64)"
   ]
  },
  {
   "cell_type": "markdown",
   "metadata": {},
   "source": [
    "Данные здесь - яркость по пикселам."
   ]
  },
  {
   "cell_type": "code",
   "execution_count": 106,
   "metadata": {},
   "outputs": [
    {
     "data": {
      "text/plain": [
       "array([0.6694215 , 0.6363636 , 0.6487603 , ..., 0.08677686, 0.08264463,\n",
       "       0.07438017], dtype=float32)"
      ]
     },
     "execution_count": 106,
     "metadata": {},
     "output_type": "execute_result"
    }
   ],
   "source": [
    "data[0]"
   ]
  },
  {
   "cell_type": "code",
   "execution_count": 114,
   "metadata": {},
   "outputs": [
    {
     "data": {
      "text/plain": [
       "<matplotlib.image.AxesImage at 0xed84c88>"
      ]
     },
     "execution_count": 114,
     "metadata": {},
     "output_type": "execute_result"
    },
    {
     "data": {
      "image/png": "[encoded data removed]",
      "text/plain": [
       "<Figure size 432x288 with 1 Axes>"
      ]
     },
     "metadata": {
      "needs_background": "light"
     },
     "output_type": "display_data"
    }
   ],
   "source": [
    " plt.imshow(data[8].reshape(image_shape))"
   ]
  },
  {
   "cell_type": "code",
   "execution_count": 119,
   "metadata": {},
   "outputs": [],
   "source": [
    "model = PCA(n_components=10, svd_solver='randomized')\n",
    "model.fit(data)\n",
    "transformed_data = model.transform(data)"
   ]
  },
  {
   "cell_type": "code",
   "execution_count": 121,
   "metadata": {},
   "outputs": [
    {
     "data": {
      "text/plain": [
       "(400, 4096)"
      ]
     },
     "execution_count": 121,
     "metadata": {},
     "output_type": "execute_result"
    }
   ],
   "source": [
    "data.shape"
   ]
  },
  {
   "cell_type": "code",
   "execution_count": 122,
   "metadata": {},
   "outputs": [
    {
     "data": {
      "text/plain": [
       "(400, 10)"
      ]
     },
     "execution_count": 122,
     "metadata": {},
     "output_type": "execute_result"
    }
   ],
   "source": [
    "transformed_data.shape"
   ]
  },
  {
   "cell_type": "code",
   "execution_count": 123,
   "metadata": {},
   "outputs": [
    {
     "data": {
      "text/plain": [
       "array([ 0.8157951 , -4.144037  ,  2.4832633 , -0.90308344,  0.831356  ,\n",
       "        0.8862291 , -0.86642337, -2.1643913 ,  0.2508214 , -0.60271716],\n",
       "      dtype=float32)"
      ]
     },
     "execution_count": 123,
     "metadata": {},
     "output_type": "execute_result"
    }
   ],
   "source": [
    "transformed_data[0]"
   ]
  },
  {
   "cell_type": "markdown",
   "metadata": {},
   "source": [
    "Центрированная проекция объекта $x_{i,j}$ на $k$-ую компоненту это значения соотетсвующего этому объекту вектора в новом признаковом пространстве $y_{i,k}$."
   ]
  },
  {
   "cell_type": "markdown",
   "metadata": {},
   "source": [
    "(Вопрос от Александра Петренко (https://www.coursera.org/learn/unsupervised-learning/discussions/forums/qD-_DSj0Eea7jBLLHPwd0w/threads/81vM2kc1SRqbzNpHNWka4Q):\n",
    "Решение задания большой трудности не вызвало. Однако остался вопрос - причем здесь квадрат косинуса угла объекта (изображения) к компоненте? Формула показывает просто долю квадрата значения координаты объекта в новом признаковом пространстве ($y_{i,k}$)  к сумме квадратов значений координат этого объекта в новом признаковом пространстве. Может кто понял причем здесь квадрат косинуса?\n",
    "\n",
    "Ответ Горчакова Тимофея Сергеевича:\n",
    "В многомерном пространстве это кажется не таким интуитивным, поэтому можете представить сначала аналогичную картину на плоскости. \n",
    "Две перпендикулярные оси, где-нибудь вне них лежит точка, в которую идет радиус-вектор из центра. Тогда сумма квадратов расстояний от нее до осей (или просто проекций на оси) есть квадрат расстояния до центра. Можно поделить обе части уравнения и получить основное тригонометрическое тождество: квадрат синуса плюс квадрат косинуса в сумме дают единицу. Но синус в этой формуле можно с таким же успехом рассматривать, как косинус угла, дополняющего его до 90. То есть 1 получается через сумму квадратов косинусов. \n",
    "Дальше это соображение обобщается на другие размерности. Например, если данные трехмерные, то от предыдущей ситуации точка отличается наличием дополнительной размерности. Произведя сумму квадратов двух проекций мы не получаем квадрат расстояния до точки, получаем только квадрат проекции на плоскость, для которой эти проекции являются образующими. Чтобы получить искомый квадрат расстояния, нужно добавить квадрат оставшейся оси. И в этом случае мы так же можем поделить равенство на этот квадрат расстояния и получим сумму трех квадратов косинусов.\n",
    "В многомерном случае аналогично)."
   ]
  },
  {
   "cell_type": "code",
   "execution_count": 170,
   "metadata": {},
   "outputs": [
    {
     "data": {
      "text/plain": [
       "1.4305115e-07"
      ]
     },
     "execution_count": 170,
     "metadata": {},
     "output_type": "execute_result"
    }
   ],
   "source": [
    "np.mean(transformed_data[:,7]) # после трансформации данные уже центрированы"
   ]
  },
  {
   "cell_type": "code",
   "execution_count": 171,
   "metadata": {},
   "outputs": [
    {
     "name": "stdout",
     "output_type": "stream",
     "text": [
      "0.9999999494867108\n"
     ]
    }
   ],
   "source": [
    "s = 0 # убеждаемся, что сумма вкладов во все компоненты, т.е. сумма квадратов косинусов равна 1\n",
    "for el in transformed_data[0]:\n",
    "    s += el**2\n",
    "\n",
    "print(s / np.sum(transformed_data[0] ** 2) )"
   ]
  },
  {
   "cell_type": "code",
   "execution_count": 135,
   "metadata": {},
   "outputs": [
    {
     "data": {
      "text/plain": [
       "array([ 0.6655217 , 17.17304   ,  6.1665964 ,  0.8155597 ,  0.69115275,\n",
       "        0.785402  ,  0.75068945,  4.6845894 ,  0.06291138,  0.363268  ],\n",
       "      dtype=float32)"
      ]
     },
     "execution_count": 135,
     "metadata": {},
     "output_type": "execute_result"
    }
   ],
   "source": [
    "transformed_data[0] ** 2"
   ]
  },
  {
   "cell_type": "code",
   "execution_count": 172,
   "metadata": {},
   "outputs": [
    {
     "data": {
      "text/html": [
       "<div>\n",
       "<style scoped>\n",
       "    .dataframe tbody tr th:only-of-type {\n",
       "        vertical-align: middle;\n",
       "    }\n",
       "\n",
       "    .dataframe tbody tr th {\n",
       "        vertical-align: top;\n",
       "    }\n",
       "\n",
       "    .dataframe thead th {\n",
       "        text-align: right;\n",
       "    }\n",
       "</style>\n",
       "<table border=\"1\" class=\"dataframe\">\n",
       "  <thead>\n",
       "    <tr style=\"text-align: right;\">\n",
       "      <th></th>\n",
       "      <th>0</th>\n",
       "      <th>1</th>\n",
       "      <th>2</th>\n",
       "      <th>3</th>\n",
       "      <th>4</th>\n",
       "      <th>5</th>\n",
       "      <th>6</th>\n",
       "      <th>7</th>\n",
       "      <th>8</th>\n",
       "      <th>9</th>\n",
       "    </tr>\n",
       "  </thead>\n",
       "  <tbody>\n",
       "    <tr>\n",
       "      <th>0</th>\n",
       "      <td>0.020695</td>\n",
       "      <td>0.534009</td>\n",
       "      <td>0.191755</td>\n",
       "      <td>0.025360</td>\n",
       "      <td>0.021492</td>\n",
       "      <td>2.442267e-02</td>\n",
       "      <td>2.334325e-02</td>\n",
       "      <td>0.145671</td>\n",
       "      <td>1.956277e-03</td>\n",
       "      <td>0.011296</td>\n",
       "    </tr>\n",
       "    <tr>\n",
       "      <th>1</th>\n",
       "      <td>0.249869</td>\n",
       "      <td>0.029817</td>\n",
       "      <td>0.492510</td>\n",
       "      <td>0.040383</td>\n",
       "      <td>0.159057</td>\n",
       "      <td>1.171250e-04</td>\n",
       "      <td>2.302047e-03</td>\n",
       "      <td>0.002772</td>\n",
       "      <td>1.918271e-02</td>\n",
       "      <td>0.003990</td>\n",
       "    </tr>\n",
       "    <tr>\n",
       "      <th>2</th>\n",
       "      <td>0.387660</td>\n",
       "      <td>0.005101</td>\n",
       "      <td>0.012779</td>\n",
       "      <td>0.084889</td>\n",
       "      <td>0.315397</td>\n",
       "      <td>4.276521e-02</td>\n",
       "      <td>8.133415e-03</td>\n",
       "      <td>0.026332</td>\n",
       "      <td>7.405896e-02</td>\n",
       "      <td>0.042884</td>\n",
       "    </tr>\n",
       "    <tr>\n",
       "      <th>3</th>\n",
       "      <td>0.248676</td>\n",
       "      <td>0.153439</td>\n",
       "      <td>0.001050</td>\n",
       "      <td>0.040931</td>\n",
       "      <td>0.087364</td>\n",
       "      <td>1.010980e-02</td>\n",
       "      <td>2.224528e-01</td>\n",
       "      <td>0.154448</td>\n",
       "      <td>8.024798e-02</td>\n",
       "      <td>0.001281</td>\n",
       "    </tr>\n",
       "    <tr>\n",
       "      <th>4</th>\n",
       "      <td>0.224599</td>\n",
       "      <td>0.103478</td>\n",
       "      <td>0.258709</td>\n",
       "      <td>0.005685</td>\n",
       "      <td>0.291846</td>\n",
       "      <td>5.638198e-02</td>\n",
       "      <td>1.680206e-02</td>\n",
       "      <td>0.006809</td>\n",
       "      <td>9.800881e-03</td>\n",
       "      <td>0.025889</td>\n",
       "    </tr>\n",
       "    <tr>\n",
       "      <th>5</th>\n",
       "      <td>0.478565</td>\n",
       "      <td>0.034065</td>\n",
       "      <td>0.068937</td>\n",
       "      <td>0.152151</td>\n",
       "      <td>0.059251</td>\n",
       "      <td>6.581920e-02</td>\n",
       "      <td>8.660606e-02</td>\n",
       "      <td>0.048288</td>\n",
       "      <td>4.934450e-03</td>\n",
       "      <td>0.001384</td>\n",
       "    </tr>\n",
       "    <tr>\n",
       "      <th>6</th>\n",
       "      <td>0.011288</td>\n",
       "      <td>0.000229</td>\n",
       "      <td>0.635102</td>\n",
       "      <td>0.056925</td>\n",
       "      <td>0.000098</td>\n",
       "      <td>2.297667e-02</td>\n",
       "      <td>4.036629e-02</td>\n",
       "      <td>0.026716</td>\n",
       "      <td>9.662749e-02</td>\n",
       "      <td>0.109671</td>\n",
       "    </tr>\n",
       "    <tr>\n",
       "      <th>7</th>\n",
       "      <td>0.008183</td>\n",
       "      <td>0.508701</td>\n",
       "      <td>0.039562</td>\n",
       "      <td>0.083117</td>\n",
       "      <td>0.000140</td>\n",
       "      <td>5.957112e-02</td>\n",
       "      <td>7.002327e-03</td>\n",
       "      <td>0.107090</td>\n",
       "      <td>1.737891e-01</td>\n",
       "      <td>0.012844</td>\n",
       "    </tr>\n",
       "    <tr>\n",
       "      <th>8</th>\n",
       "      <td>0.119005</td>\n",
       "      <td>0.040294</td>\n",
       "      <td>0.166204</td>\n",
       "      <td>0.135006</td>\n",
       "      <td>0.011709</td>\n",
       "      <td>3.503361e-01</td>\n",
       "      <td>7.568231e-02</td>\n",
       "      <td>0.000026</td>\n",
       "      <td>1.001889e-01</td>\n",
       "      <td>0.001549</td>\n",
       "    </tr>\n",
       "    <tr>\n",
       "      <th>9</th>\n",
       "      <td>0.928436</td>\n",
       "      <td>0.006873</td>\n",
       "      <td>0.004087</td>\n",
       "      <td>0.000221</td>\n",
       "      <td>0.004779</td>\n",
       "      <td>2.393392e-02</td>\n",
       "      <td>9.782316e-07</td>\n",
       "      <td>0.019927</td>\n",
       "      <td>1.112741e-02</td>\n",
       "      <td>0.000614</td>\n",
       "    </tr>\n",
       "    <tr>\n",
       "      <th>10</th>\n",
       "      <td>0.031198</td>\n",
       "      <td>0.230166</td>\n",
       "      <td>0.057092</td>\n",
       "      <td>0.024074</td>\n",
       "      <td>0.002988</td>\n",
       "      <td>1.271219e-04</td>\n",
       "      <td>4.536511e-01</td>\n",
       "      <td>0.033885</td>\n",
       "      <td>7.688583e-02</td>\n",
       "      <td>0.089933</td>\n",
       "    </tr>\n",
       "    <tr>\n",
       "      <th>11</th>\n",
       "      <td>0.006044</td>\n",
       "      <td>0.029535</td>\n",
       "      <td>0.123525</td>\n",
       "      <td>0.323126</td>\n",
       "      <td>0.029856</td>\n",
       "      <td>9.119773e-02</td>\n",
       "      <td>6.735613e-02</td>\n",
       "      <td>0.237804</td>\n",
       "      <td>8.803633e-02</td>\n",
       "      <td>0.003520</td>\n",
       "    </tr>\n",
       "    <tr>\n",
       "      <th>12</th>\n",
       "      <td>0.067237</td>\n",
       "      <td>0.045431</td>\n",
       "      <td>0.153902</td>\n",
       "      <td>0.042418</td>\n",
       "      <td>0.002849</td>\n",
       "      <td>4.786447e-01</td>\n",
       "      <td>5.528948e-02</td>\n",
       "      <td>0.119722</td>\n",
       "      <td>1.247649e-02</td>\n",
       "      <td>0.022030</td>\n",
       "    </tr>\n",
       "    <tr>\n",
       "      <th>13</th>\n",
       "      <td>0.043165</td>\n",
       "      <td>0.822421</td>\n",
       "      <td>0.016818</td>\n",
       "      <td>0.004997</td>\n",
       "      <td>0.014482</td>\n",
       "      <td>2.205337e-02</td>\n",
       "      <td>6.637697e-03</td>\n",
       "      <td>0.030047</td>\n",
       "      <td>1.039002e-03</td>\n",
       "      <td>0.038341</td>\n",
       "    </tr>\n",
       "    <tr>\n",
       "      <th>14</th>\n",
       "      <td>0.008450</td>\n",
       "      <td>0.203923</td>\n",
       "      <td>0.242031</td>\n",
       "      <td>0.016504</td>\n",
       "      <td>0.094837</td>\n",
       "      <td>1.658680e-02</td>\n",
       "      <td>1.751039e-01</td>\n",
       "      <td>0.145703</td>\n",
       "      <td>4.795659e-02</td>\n",
       "      <td>0.048905</td>\n",
       "    </tr>\n",
       "    <tr>\n",
       "      <th>15</th>\n",
       "      <td>0.758772</td>\n",
       "      <td>0.018717</td>\n",
       "      <td>0.003112</td>\n",
       "      <td>0.034539</td>\n",
       "      <td>0.091793</td>\n",
       "      <td>4.736704e-02</td>\n",
       "      <td>3.942603e-02</td>\n",
       "      <td>0.000028</td>\n",
       "      <td>3.160353e-04</td>\n",
       "      <td>0.005931</td>\n",
       "    </tr>\n",
       "    <tr>\n",
       "      <th>16</th>\n",
       "      <td>0.539658</td>\n",
       "      <td>0.031669</td>\n",
       "      <td>0.078051</td>\n",
       "      <td>0.160640</td>\n",
       "      <td>0.082640</td>\n",
       "      <td>7.548730e-04</td>\n",
       "      <td>7.754357e-04</td>\n",
       "      <td>0.004721</td>\n",
       "      <td>1.782969e-02</td>\n",
       "      <td>0.083262</td>\n",
       "    </tr>\n",
       "    <tr>\n",
       "      <th>17</th>\n",
       "      <td>0.020772</td>\n",
       "      <td>0.072241</td>\n",
       "      <td>0.586120</td>\n",
       "      <td>0.028328</td>\n",
       "      <td>0.046903</td>\n",
       "      <td>3.628890e-02</td>\n",
       "      <td>5.623149e-02</td>\n",
       "      <td>0.023192</td>\n",
       "      <td>1.265983e-01</td>\n",
       "      <td>0.003326</td>\n",
       "    </tr>\n",
       "    <tr>\n",
       "      <th>18</th>\n",
       "      <td>0.014266</td>\n",
       "      <td>0.941612</td>\n",
       "      <td>0.012094</td>\n",
       "      <td>0.000003</td>\n",
       "      <td>0.000215</td>\n",
       "      <td>1.852360e-02</td>\n",
       "      <td>3.571446e-03</td>\n",
       "      <td>0.000151</td>\n",
       "      <td>4.322826e-03</td>\n",
       "      <td>0.005239</td>\n",
       "    </tr>\n",
       "    <tr>\n",
       "      <th>19</th>\n",
       "      <td>0.453181</td>\n",
       "      <td>0.098951</td>\n",
       "      <td>0.116646</td>\n",
       "      <td>0.008812</td>\n",
       "      <td>0.036905</td>\n",
       "      <td>3.174805e-03</td>\n",
       "      <td>9.025504e-02</td>\n",
       "      <td>0.151350</td>\n",
       "      <td>3.221051e-02</td>\n",
       "      <td>0.008515</td>\n",
       "    </tr>\n",
       "    <tr>\n",
       "      <th>20</th>\n",
       "      <td>0.647900</td>\n",
       "      <td>0.053972</td>\n",
       "      <td>0.003142</td>\n",
       "      <td>0.199153</td>\n",
       "      <td>0.010095</td>\n",
       "      <td>2.249380e-02</td>\n",
       "      <td>1.489951e-04</td>\n",
       "      <td>0.007369</td>\n",
       "      <td>2.914217e-02</td>\n",
       "      <td>0.026584</td>\n",
       "    </tr>\n",
       "    <tr>\n",
       "      <th>21</th>\n",
       "      <td>0.005305</td>\n",
       "      <td>0.679274</td>\n",
       "      <td>0.027037</td>\n",
       "      <td>0.083274</td>\n",
       "      <td>0.048662</td>\n",
       "      <td>2.087610e-03</td>\n",
       "      <td>8.717511e-03</td>\n",
       "      <td>0.006518</td>\n",
       "      <td>1.374900e-01</td>\n",
       "      <td>0.001635</td>\n",
       "    </tr>\n",
       "    <tr>\n",
       "      <th>22</th>\n",
       "      <td>0.400195</td>\n",
       "      <td>0.078026</td>\n",
       "      <td>0.001561</td>\n",
       "      <td>0.000261</td>\n",
       "      <td>0.074551</td>\n",
       "      <td>1.006565e-01</td>\n",
       "      <td>2.306376e-01</td>\n",
       "      <td>0.100601</td>\n",
       "      <td>5.380643e-09</td>\n",
       "      <td>0.013511</td>\n",
       "    </tr>\n",
       "    <tr>\n",
       "      <th>23</th>\n",
       "      <td>0.044660</td>\n",
       "      <td>0.824970</td>\n",
       "      <td>0.042689</td>\n",
       "      <td>0.002365</td>\n",
       "      <td>0.018642</td>\n",
       "      <td>3.739053e-02</td>\n",
       "      <td>2.439969e-03</td>\n",
       "      <td>0.014235</td>\n",
       "      <td>9.762189e-03</td>\n",
       "      <td>0.002846</td>\n",
       "    </tr>\n",
       "    <tr>\n",
       "      <th>24</th>\n",
       "      <td>0.741500</td>\n",
       "      <td>0.041527</td>\n",
       "      <td>0.043491</td>\n",
       "      <td>0.087951</td>\n",
       "      <td>0.044242</td>\n",
       "      <td>6.209843e-03</td>\n",
       "      <td>3.259750e-04</td>\n",
       "      <td>0.014610</td>\n",
       "      <td>5.682906e-05</td>\n",
       "      <td>0.020086</td>\n",
       "    </tr>\n",
       "    <tr>\n",
       "      <th>25</th>\n",
       "      <td>0.273598</td>\n",
       "      <td>0.259062</td>\n",
       "      <td>0.227205</td>\n",
       "      <td>0.044842</td>\n",
       "      <td>0.012033</td>\n",
       "      <td>6.345884e-02</td>\n",
       "      <td>2.236904e-02</td>\n",
       "      <td>0.061275</td>\n",
       "      <td>3.447792e-02</td>\n",
       "      <td>0.001679</td>\n",
       "    </tr>\n",
       "    <tr>\n",
       "      <th>26</th>\n",
       "      <td>0.406887</td>\n",
       "      <td>0.315522</td>\n",
       "      <td>0.000710</td>\n",
       "      <td>0.031856</td>\n",
       "      <td>0.150213</td>\n",
       "      <td>1.518630e-03</td>\n",
       "      <td>6.426325e-03</td>\n",
       "      <td>0.000103</td>\n",
       "      <td>3.304008e-02</td>\n",
       "      <td>0.053724</td>\n",
       "    </tr>\n",
       "    <tr>\n",
       "      <th>27</th>\n",
       "      <td>0.000109</td>\n",
       "      <td>0.372510</td>\n",
       "      <td>0.253643</td>\n",
       "      <td>0.000674</td>\n",
       "      <td>0.010524</td>\n",
       "      <td>3.419029e-02</td>\n",
       "      <td>1.261856e-01</td>\n",
       "      <td>0.066442</td>\n",
       "      <td>1.131088e-01</td>\n",
       "      <td>0.022612</td>\n",
       "    </tr>\n",
       "    <tr>\n",
       "      <th>28</th>\n",
       "      <td>0.179172</td>\n",
       "      <td>0.281839</td>\n",
       "      <td>0.055624</td>\n",
       "      <td>0.035956</td>\n",
       "      <td>0.403184</td>\n",
       "      <td>1.537750e-02</td>\n",
       "      <td>1.697636e-02</td>\n",
       "      <td>0.010976</td>\n",
       "      <td>8.927833e-04</td>\n",
       "      <td>0.000002</td>\n",
       "    </tr>\n",
       "    <tr>\n",
       "      <th>29</th>\n",
       "      <td>0.232765</td>\n",
       "      <td>0.264335</td>\n",
       "      <td>0.146479</td>\n",
       "      <td>0.138798</td>\n",
       "      <td>0.021224</td>\n",
       "      <td>3.526093e-02</td>\n",
       "      <td>2.050448e-04</td>\n",
       "      <td>0.049687</td>\n",
       "      <td>9.844703e-02</td>\n",
       "      <td>0.012800</td>\n",
       "    </tr>\n",
       "    <tr>\n",
       "      <th>...</th>\n",
       "      <td>...</td>\n",
       "      <td>...</td>\n",
       "      <td>...</td>\n",
       "      <td>...</td>\n",
       "      <td>...</td>\n",
       "      <td>...</td>\n",
       "      <td>...</td>\n",
       "      <td>...</td>\n",
       "      <td>...</td>\n",
       "      <td>...</td>\n",
       "    </tr>\n",
       "    <tr>\n",
       "      <th>370</th>\n",
       "      <td>0.000417</td>\n",
       "      <td>0.285499</td>\n",
       "      <td>0.041260</td>\n",
       "      <td>0.005862</td>\n",
       "      <td>0.045877</td>\n",
       "      <td>9.901092e-02</td>\n",
       "      <td>2.223084e-03</td>\n",
       "      <td>0.029600</td>\n",
       "      <td>4.685746e-01</td>\n",
       "      <td>0.021675</td>\n",
       "    </tr>\n",
       "    <tr>\n",
       "      <th>371</th>\n",
       "      <td>0.398796</td>\n",
       "      <td>0.248831</td>\n",
       "      <td>0.143841</td>\n",
       "      <td>0.009537</td>\n",
       "      <td>0.028378</td>\n",
       "      <td>8.828690e-02</td>\n",
       "      <td>1.629403e-02</td>\n",
       "      <td>0.035874</td>\n",
       "      <td>3.012892e-02</td>\n",
       "      <td>0.000033</td>\n",
       "    </tr>\n",
       "    <tr>\n",
       "      <th>372</th>\n",
       "      <td>0.002573</td>\n",
       "      <td>0.435858</td>\n",
       "      <td>0.021587</td>\n",
       "      <td>0.228381</td>\n",
       "      <td>0.119593</td>\n",
       "      <td>3.849833e-07</td>\n",
       "      <td>1.520075e-03</td>\n",
       "      <td>0.012608</td>\n",
       "      <td>1.284585e-01</td>\n",
       "      <td>0.049421</td>\n",
       "    </tr>\n",
       "    <tr>\n",
       "      <th>373</th>\n",
       "      <td>0.371610</td>\n",
       "      <td>0.290482</td>\n",
       "      <td>0.009447</td>\n",
       "      <td>0.022470</td>\n",
       "      <td>0.034977</td>\n",
       "      <td>1.606192e-01</td>\n",
       "      <td>9.586475e-02</td>\n",
       "      <td>0.002836</td>\n",
       "      <td>1.076300e-02</td>\n",
       "      <td>0.000931</td>\n",
       "    </tr>\n",
       "    <tr>\n",
       "      <th>374</th>\n",
       "      <td>0.741130</td>\n",
       "      <td>0.010327</td>\n",
       "      <td>0.047370</td>\n",
       "      <td>0.024824</td>\n",
       "      <td>0.000023</td>\n",
       "      <td>6.769049e-04</td>\n",
       "      <td>2.098083e-02</td>\n",
       "      <td>0.023012</td>\n",
       "      <td>8.105670e-03</td>\n",
       "      <td>0.123552</td>\n",
       "    </tr>\n",
       "    <tr>\n",
       "      <th>375</th>\n",
       "      <td>0.004873</td>\n",
       "      <td>0.046946</td>\n",
       "      <td>0.338921</td>\n",
       "      <td>0.102058</td>\n",
       "      <td>0.026759</td>\n",
       "      <td>4.160800e-01</td>\n",
       "      <td>1.135063e-02</td>\n",
       "      <td>0.051776</td>\n",
       "      <td>7.271970e-04</td>\n",
       "      <td>0.000510</td>\n",
       "    </tr>\n",
       "    <tr>\n",
       "      <th>376</th>\n",
       "      <td>0.117208</td>\n",
       "      <td>0.766762</td>\n",
       "      <td>0.002340</td>\n",
       "      <td>0.059515</td>\n",
       "      <td>0.020894</td>\n",
       "      <td>8.024699e-04</td>\n",
       "      <td>9.600755e-04</td>\n",
       "      <td>0.000183</td>\n",
       "      <td>2.824894e-02</td>\n",
       "      <td>0.003087</td>\n",
       "    </tr>\n",
       "    <tr>\n",
       "      <th>377</th>\n",
       "      <td>0.745831</td>\n",
       "      <td>0.006885</td>\n",
       "      <td>0.168331</td>\n",
       "      <td>0.005711</td>\n",
       "      <td>0.000125</td>\n",
       "      <td>3.420793e-02</td>\n",
       "      <td>8.498977e-03</td>\n",
       "      <td>0.006225</td>\n",
       "      <td>8.839644e-03</td>\n",
       "      <td>0.015346</td>\n",
       "    </tr>\n",
       "    <tr>\n",
       "      <th>378</th>\n",
       "      <td>0.939992</td>\n",
       "      <td>0.000056</td>\n",
       "      <td>0.007063</td>\n",
       "      <td>0.028456</td>\n",
       "      <td>0.000360</td>\n",
       "      <td>4.160545e-03</td>\n",
       "      <td>1.147687e-02</td>\n",
       "      <td>0.000294</td>\n",
       "      <td>7.228125e-03</td>\n",
       "      <td>0.000914</td>\n",
       "    </tr>\n",
       "    <tr>\n",
       "      <th>379</th>\n",
       "      <td>0.535599</td>\n",
       "      <td>0.006459</td>\n",
       "      <td>0.013836</td>\n",
       "      <td>0.154662</td>\n",
       "      <td>0.018707</td>\n",
       "      <td>1.612109e-01</td>\n",
       "      <td>5.006465e-03</td>\n",
       "      <td>0.031763</td>\n",
       "      <td>5.264038e-03</td>\n",
       "      <td>0.067492</td>\n",
       "    </tr>\n",
       "    <tr>\n",
       "      <th>380</th>\n",
       "      <td>0.932089</td>\n",
       "      <td>0.009448</td>\n",
       "      <td>0.000003</td>\n",
       "      <td>0.013260</td>\n",
       "      <td>0.000511</td>\n",
       "      <td>1.268364e-02</td>\n",
       "      <td>1.290654e-02</td>\n",
       "      <td>0.001242</td>\n",
       "      <td>6.345106e-03</td>\n",
       "      <td>0.011512</td>\n",
       "    </tr>\n",
       "    <tr>\n",
       "      <th>381</th>\n",
       "      <td>0.072801</td>\n",
       "      <td>0.643022</td>\n",
       "      <td>0.007708</td>\n",
       "      <td>0.098684</td>\n",
       "      <td>0.000245</td>\n",
       "      <td>1.442481e-03</td>\n",
       "      <td>7.400965e-02</td>\n",
       "      <td>0.018919</td>\n",
       "      <td>6.198159e-02</td>\n",
       "      <td>0.021187</td>\n",
       "    </tr>\n",
       "    <tr>\n",
       "      <th>382</th>\n",
       "      <td>0.001008</td>\n",
       "      <td>0.069823</td>\n",
       "      <td>0.030272</td>\n",
       "      <td>0.245742</td>\n",
       "      <td>0.043532</td>\n",
       "      <td>6.274739e-02</td>\n",
       "      <td>2.029943e-02</td>\n",
       "      <td>0.496797</td>\n",
       "      <td>2.593571e-02</td>\n",
       "      <td>0.003843</td>\n",
       "    </tr>\n",
       "    <tr>\n",
       "      <th>383</th>\n",
       "      <td>0.021136</td>\n",
       "      <td>0.594221</td>\n",
       "      <td>0.009186</td>\n",
       "      <td>0.153225</td>\n",
       "      <td>0.024752</td>\n",
       "      <td>1.350638e-01</td>\n",
       "      <td>1.847157e-02</td>\n",
       "      <td>0.023224</td>\n",
       "      <td>3.789147e-03</td>\n",
       "      <td>0.016931</td>\n",
       "    </tr>\n",
       "    <tr>\n",
       "      <th>384</th>\n",
       "      <td>0.002095</td>\n",
       "      <td>0.010007</td>\n",
       "      <td>0.345295</td>\n",
       "      <td>0.054791</td>\n",
       "      <td>0.316909</td>\n",
       "      <td>8.686042e-02</td>\n",
       "      <td>5.198100e-02</td>\n",
       "      <td>0.008775</td>\n",
       "      <td>1.156246e-04</td>\n",
       "      <td>0.123171</td>\n",
       "    </tr>\n",
       "    <tr>\n",
       "      <th>385</th>\n",
       "      <td>0.209100</td>\n",
       "      <td>0.277954</td>\n",
       "      <td>0.045315</td>\n",
       "      <td>0.037493</td>\n",
       "      <td>0.169849</td>\n",
       "      <td>2.290453e-03</td>\n",
       "      <td>6.340966e-02</td>\n",
       "      <td>0.003138</td>\n",
       "      <td>1.080977e-01</td>\n",
       "      <td>0.083354</td>\n",
       "    </tr>\n",
       "    <tr>\n",
       "      <th>386</th>\n",
       "      <td>0.260706</td>\n",
       "      <td>0.154797</td>\n",
       "      <td>0.248329</td>\n",
       "      <td>0.063085</td>\n",
       "      <td>0.048277</td>\n",
       "      <td>1.727741e-01</td>\n",
       "      <td>3.325231e-02</td>\n",
       "      <td>0.000019</td>\n",
       "      <td>1.661634e-02</td>\n",
       "      <td>0.002146</td>\n",
       "    </tr>\n",
       "    <tr>\n",
       "      <th>387</th>\n",
       "      <td>0.255953</td>\n",
       "      <td>0.212866</td>\n",
       "      <td>0.010831</td>\n",
       "      <td>0.357144</td>\n",
       "      <td>0.009968</td>\n",
       "      <td>1.025390e-01</td>\n",
       "      <td>1.883367e-04</td>\n",
       "      <td>0.014055</td>\n",
       "      <td>2.326669e-02</td>\n",
       "      <td>0.013189</td>\n",
       "    </tr>\n",
       "    <tr>\n",
       "      <th>388</th>\n",
       "      <td>0.169341</td>\n",
       "      <td>0.247441</td>\n",
       "      <td>0.170902</td>\n",
       "      <td>0.000280</td>\n",
       "      <td>0.209786</td>\n",
       "      <td>1.706367e-01</td>\n",
       "      <td>8.486468e-06</td>\n",
       "      <td>0.000150</td>\n",
       "      <td>3.077289e-02</td>\n",
       "      <td>0.000682</td>\n",
       "    </tr>\n",
       "    <tr>\n",
       "      <th>389</th>\n",
       "      <td>0.000469</td>\n",
       "      <td>0.385542</td>\n",
       "      <td>0.003974</td>\n",
       "      <td>0.012950</td>\n",
       "      <td>0.216174</td>\n",
       "      <td>2.905951e-02</td>\n",
       "      <td>8.530145e-02</td>\n",
       "      <td>0.089592</td>\n",
       "      <td>3.503856e-02</td>\n",
       "      <td>0.141899</td>\n",
       "    </tr>\n",
       "    <tr>\n",
       "      <th>390</th>\n",
       "      <td>0.909626</td>\n",
       "      <td>0.025545</td>\n",
       "      <td>0.002679</td>\n",
       "      <td>0.005688</td>\n",
       "      <td>0.026256</td>\n",
       "      <td>2.147861e-02</td>\n",
       "      <td>4.094383e-08</td>\n",
       "      <td>0.000255</td>\n",
       "      <td>3.852468e-03</td>\n",
       "      <td>0.004620</td>\n",
       "    </tr>\n",
       "    <tr>\n",
       "      <th>391</th>\n",
       "      <td>0.058812</td>\n",
       "      <td>0.067045</td>\n",
       "      <td>0.489080</td>\n",
       "      <td>0.096815</td>\n",
       "      <td>0.026799</td>\n",
       "      <td>9.258878e-02</td>\n",
       "      <td>3.655171e-02</td>\n",
       "      <td>0.044922</td>\n",
       "      <td>1.861547e-02</td>\n",
       "      <td>0.068772</td>\n",
       "    </tr>\n",
       "    <tr>\n",
       "      <th>392</th>\n",
       "      <td>0.415821</td>\n",
       "      <td>0.265607</td>\n",
       "      <td>0.118361</td>\n",
       "      <td>0.082080</td>\n",
       "      <td>0.001185</td>\n",
       "      <td>1.756329e-02</td>\n",
       "      <td>8.576401e-02</td>\n",
       "      <td>0.005713</td>\n",
       "      <td>7.559866e-03</td>\n",
       "      <td>0.000347</td>\n",
       "    </tr>\n",
       "    <tr>\n",
       "      <th>393</th>\n",
       "      <td>0.003500</td>\n",
       "      <td>0.087816</td>\n",
       "      <td>0.089943</td>\n",
       "      <td>0.171070</td>\n",
       "      <td>0.016367</td>\n",
       "      <td>2.157115e-01</td>\n",
       "      <td>3.325598e-02</td>\n",
       "      <td>0.381466</td>\n",
       "      <td>8.989536e-06</td>\n",
       "      <td>0.000862</td>\n",
       "    </tr>\n",
       "    <tr>\n",
       "      <th>394</th>\n",
       "      <td>0.014306</td>\n",
       "      <td>0.018345</td>\n",
       "      <td>0.414213</td>\n",
       "      <td>0.359283</td>\n",
       "      <td>0.045618</td>\n",
       "      <td>1.062600e-01</td>\n",
       "      <td>5.716192e-04</td>\n",
       "      <td>0.010098</td>\n",
       "      <td>2.895363e-02</td>\n",
       "      <td>0.002352</td>\n",
       "    </tr>\n",
       "    <tr>\n",
       "      <th>395</th>\n",
       "      <td>0.677377</td>\n",
       "      <td>0.000245</td>\n",
       "      <td>0.032074</td>\n",
       "      <td>0.116360</td>\n",
       "      <td>0.011049</td>\n",
       "      <td>8.459660e-02</td>\n",
       "      <td>5.181051e-02</td>\n",
       "      <td>0.002605</td>\n",
       "      <td>1.844755e-02</td>\n",
       "      <td>0.005434</td>\n",
       "    </tr>\n",
       "    <tr>\n",
       "      <th>396</th>\n",
       "      <td>0.374716</td>\n",
       "      <td>0.046880</td>\n",
       "      <td>0.142417</td>\n",
       "      <td>0.031439</td>\n",
       "      <td>0.021272</td>\n",
       "      <td>3.316088e-02</td>\n",
       "      <td>1.183563e-01</td>\n",
       "      <td>0.144677</td>\n",
       "      <td>8.426492e-02</td>\n",
       "      <td>0.002816</td>\n",
       "    </tr>\n",
       "    <tr>\n",
       "      <th>397</th>\n",
       "      <td>0.077189</td>\n",
       "      <td>0.065458</td>\n",
       "      <td>0.636824</td>\n",
       "      <td>0.008204</td>\n",
       "      <td>0.052963</td>\n",
       "      <td>5.361511e-02</td>\n",
       "      <td>9.390539e-03</td>\n",
       "      <td>0.008192</td>\n",
       "      <td>4.579516e-02</td>\n",
       "      <td>0.042371</td>\n",
       "    </tr>\n",
       "    <tr>\n",
       "      <th>398</th>\n",
       "      <td>0.115951</td>\n",
       "      <td>0.340890</td>\n",
       "      <td>0.127951</td>\n",
       "      <td>0.000350</td>\n",
       "      <td>0.266177</td>\n",
       "      <td>7.891261e-02</td>\n",
       "      <td>4.418438e-03</td>\n",
       "      <td>0.015437</td>\n",
       "      <td>1.979349e-02</td>\n",
       "      <td>0.030119</td>\n",
       "    </tr>\n",
       "    <tr>\n",
       "      <th>399</th>\n",
       "      <td>0.568251</td>\n",
       "      <td>0.133759</td>\n",
       "      <td>0.000120</td>\n",
       "      <td>0.123197</td>\n",
       "      <td>0.000100</td>\n",
       "      <td>7.585153e-02</td>\n",
       "      <td>1.043461e-05</td>\n",
       "      <td>0.029188</td>\n",
       "      <td>1.572120e-02</td>\n",
       "      <td>0.053802</td>\n",
       "    </tr>\n",
       "  </tbody>\n",
       "</table>\n",
       "<p>400 rows × 10 columns</p>\n",
       "</div>"
      ],
      "text/plain": [
       "            0         1         2         3         4             5  \\\n",
       "0    0.020695  0.534009  0.191755  0.025360  0.021492  2.442267e-02   \n",
       "1    0.249869  0.029817  0.492510  0.040383  0.159057  1.171250e-04   \n",
       "2    0.387660  0.005101  0.012779  0.084889  0.315397  4.276521e-02   \n",
       "3    0.248676  0.153439  0.001050  0.040931  0.087364  1.010980e-02   \n",
       "4    0.224599  0.103478  0.258709  0.005685  0.291846  5.638198e-02   \n",
       "5    0.478565  0.034065  0.068937  0.152151  0.059251  6.581920e-02   \n",
       "6    0.011288  0.000229  0.635102  0.056925  0.000098  2.297667e-02   \n",
       "7    0.008183  0.508701  0.039562  0.083117  0.000140  5.957112e-02   \n",
       "8    0.119005  0.040294  0.166204  0.135006  0.011709  3.503361e-01   \n",
       "9    0.928436  0.006873  0.004087  0.000221  0.004779  2.393392e-02   \n",
       "10   0.031198  0.230166  0.057092  0.024074  0.002988  1.271219e-04   \n",
       "11   0.006044  0.029535  0.123525  0.323126  0.029856  9.119773e-02   \n",
       "12   0.067237  0.045431  0.153902  0.042418  0.002849  4.786447e-01   \n",
       "13   0.043165  0.822421  0.016818  0.004997  0.014482  2.205337e-02   \n",
       "14   0.008450  0.203923  0.242031  0.016504  0.094837  1.658680e-02   \n",
       "15   0.758772  0.018717  0.003112  0.034539  0.091793  4.736704e-02   \n",
       "16   0.539658  0.031669  0.078051  0.160640  0.082640  7.548730e-04   \n",
       "17   0.020772  0.072241  0.586120  0.028328  0.046903  3.628890e-02   \n",
       "18   0.014266  0.941612  0.012094  0.000003  0.000215  1.852360e-02   \n",
       "19   0.453181  0.098951  0.116646  0.008812  0.036905  3.174805e-03   \n",
       "20   0.647900  0.053972  0.003142  0.199153  0.010095  2.249380e-02   \n",
       "21   0.005305  0.679274  0.027037  0.083274  0.048662  2.087610e-03   \n",
       "22   0.400195  0.078026  0.001561  0.000261  0.074551  1.006565e-01   \n",
       "23   0.044660  0.824970  0.042689  0.002365  0.018642  3.739053e-02   \n",
       "24   0.741500  0.041527  0.043491  0.087951  0.044242  6.209843e-03   \n",
       "25   0.273598  0.259062  0.227205  0.044842  0.012033  6.345884e-02   \n",
       "26   0.406887  0.315522  0.000710  0.031856  0.150213  1.518630e-03   \n",
       "27   0.000109  0.372510  0.253643  0.000674  0.010524  3.419029e-02   \n",
       "28   0.179172  0.281839  0.055624  0.035956  0.403184  1.537750e-02   \n",
       "29   0.232765  0.264335  0.146479  0.138798  0.021224  3.526093e-02   \n",
       "..        ...       ...       ...       ...       ...           ...   \n",
       "370  0.000417  0.285499  0.041260  0.005862  0.045877  9.901092e-02   \n",
       "371  0.398796  0.248831  0.143841  0.009537  0.028378  8.828690e-02   \n",
       "372  0.002573  0.435858  0.021587  0.228381  0.119593  3.849833e-07   \n",
       "373  0.371610  0.290482  0.009447  0.022470  0.034977  1.606192e-01   \n",
       "374  0.741130  0.010327  0.047370  0.024824  0.000023  6.769049e-04   \n",
       "375  0.004873  0.046946  0.338921  0.102058  0.026759  4.160800e-01   \n",
       "376  0.117208  0.766762  0.002340  0.059515  0.020894  8.024699e-04   \n",
       "377  0.745831  0.006885  0.168331  0.005711  0.000125  3.420793e-02   \n",
       "378  0.939992  0.000056  0.007063  0.028456  0.000360  4.160545e-03   \n",
       "379  0.535599  0.006459  0.013836  0.154662  0.018707  1.612109e-01   \n",
       "380  0.932089  0.009448  0.000003  0.013260  0.000511  1.268364e-02   \n",
       "381  0.072801  0.643022  0.007708  0.098684  0.000245  1.442481e-03   \n",
       "382  0.001008  0.069823  0.030272  0.245742  0.043532  6.274739e-02   \n",
       "383  0.021136  0.594221  0.009186  0.153225  0.024752  1.350638e-01   \n",
       "384  0.002095  0.010007  0.345295  0.054791  0.316909  8.686042e-02   \n",
       "385  0.209100  0.277954  0.045315  0.037493  0.169849  2.290453e-03   \n",
       "386  0.260706  0.154797  0.248329  0.063085  0.048277  1.727741e-01   \n",
       "387  0.255953  0.212866  0.010831  0.357144  0.009968  1.025390e-01   \n",
       "388  0.169341  0.247441  0.170902  0.000280  0.209786  1.706367e-01   \n",
       "389  0.000469  0.385542  0.003974  0.012950  0.216174  2.905951e-02   \n",
       "390  0.909626  0.025545  0.002679  0.005688  0.026256  2.147861e-02   \n",
       "391  0.058812  0.067045  0.489080  0.096815  0.026799  9.258878e-02   \n",
       "392  0.415821  0.265607  0.118361  0.082080  0.001185  1.756329e-02   \n",
       "393  0.003500  0.087816  0.089943  0.171070  0.016367  2.157115e-01   \n",
       "394  0.014306  0.018345  0.414213  0.359283  0.045618  1.062600e-01   \n",
       "395  0.677377  0.000245  0.032074  0.116360  0.011049  8.459660e-02   \n",
       "396  0.374716  0.046880  0.142417  0.031439  0.021272  3.316088e-02   \n",
       "397  0.077189  0.065458  0.636824  0.008204  0.052963  5.361511e-02   \n",
       "398  0.115951  0.340890  0.127951  0.000350  0.266177  7.891261e-02   \n",
       "399  0.568251  0.133759  0.000120  0.123197  0.000100  7.585153e-02   \n",
       "\n",
       "                6         7             8         9  \n",
       "0    2.334325e-02  0.145671  1.956277e-03  0.011296  \n",
       "1    2.302047e-03  0.002772  1.918271e-02  0.003990  \n",
       "2    8.133415e-03  0.026332  7.405896e-02  0.042884  \n",
       "3    2.224528e-01  0.154448  8.024798e-02  0.001281  \n",
       "4    1.680206e-02  0.006809  9.800881e-03  0.025889  \n",
       "5    8.660606e-02  0.048288  4.934450e-03  0.001384  \n",
       "6    4.036629e-02  0.026716  9.662749e-02  0.109671  \n",
       "7    7.002327e-03  0.107090  1.737891e-01  0.012844  \n",
       "8    7.568231e-02  0.000026  1.001889e-01  0.001549  \n",
       "9    9.782316e-07  0.019927  1.112741e-02  0.000614  \n",
       "10   4.536511e-01  0.033885  7.688583e-02  0.089933  \n",
       "11   6.735613e-02  0.237804  8.803633e-02  0.003520  \n",
       "12   5.528948e-02  0.119722  1.247649e-02  0.022030  \n",
       "13   6.637697e-03  0.030047  1.039002e-03  0.038341  \n",
       "14   1.751039e-01  0.145703  4.795659e-02  0.048905  \n",
       "15   3.942603e-02  0.000028  3.160353e-04  0.005931  \n",
       "16   7.754357e-04  0.004721  1.782969e-02  0.083262  \n",
       "17   5.623149e-02  0.023192  1.265983e-01  0.003326  \n",
       "18   3.571446e-03  0.000151  4.322826e-03  0.005239  \n",
       "19   9.025504e-02  0.151350  3.221051e-02  0.008515  \n",
       "20   1.489951e-04  0.007369  2.914217e-02  0.026584  \n",
       "21   8.717511e-03  0.006518  1.374900e-01  0.001635  \n",
       "22   2.306376e-01  0.100601  5.380643e-09  0.013511  \n",
       "23   2.439969e-03  0.014235  9.762189e-03  0.002846  \n",
       "24   3.259750e-04  0.014610  5.682906e-05  0.020086  \n",
       "25   2.236904e-02  0.061275  3.447792e-02  0.001679  \n",
       "26   6.426325e-03  0.000103  3.304008e-02  0.053724  \n",
       "27   1.261856e-01  0.066442  1.131088e-01  0.022612  \n",
       "28   1.697636e-02  0.010976  8.927833e-04  0.000002  \n",
       "29   2.050448e-04  0.049687  9.844703e-02  0.012800  \n",
       "..            ...       ...           ...       ...  \n",
       "370  2.223084e-03  0.029600  4.685746e-01  0.021675  \n",
       "371  1.629403e-02  0.035874  3.012892e-02  0.000033  \n",
       "372  1.520075e-03  0.012608  1.284585e-01  0.049421  \n",
       "373  9.586475e-02  0.002836  1.076300e-02  0.000931  \n",
       "374  2.098083e-02  0.023012  8.105670e-03  0.123552  \n",
       "375  1.135063e-02  0.051776  7.271970e-04  0.000510  \n",
       "376  9.600755e-04  0.000183  2.824894e-02  0.003087  \n",
       "377  8.498977e-03  0.006225  8.839644e-03  0.015346  \n",
       "378  1.147687e-02  0.000294  7.228125e-03  0.000914  \n",
       "379  5.006465e-03  0.031763  5.264038e-03  0.067492  \n",
       "380  1.290654e-02  0.001242  6.345106e-03  0.011512  \n",
       "381  7.400965e-02  0.018919  6.198159e-02  0.021187  \n",
       "382  2.029943e-02  0.496797  2.593571e-02  0.003843  \n",
       "383  1.847157e-02  0.023224  3.789147e-03  0.016931  \n",
       "384  5.198100e-02  0.008775  1.156246e-04  0.123171  \n",
       "385  6.340966e-02  0.003138  1.080977e-01  0.083354  \n",
       "386  3.325231e-02  0.000019  1.661634e-02  0.002146  \n",
       "387  1.883367e-04  0.014055  2.326669e-02  0.013189  \n",
       "388  8.486468e-06  0.000150  3.077289e-02  0.000682  \n",
       "389  8.530145e-02  0.089592  3.503856e-02  0.141899  \n",
       "390  4.094383e-08  0.000255  3.852468e-03  0.004620  \n",
       "391  3.655171e-02  0.044922  1.861547e-02  0.068772  \n",
       "392  8.576401e-02  0.005713  7.559866e-03  0.000347  \n",
       "393  3.325598e-02  0.381466  8.989536e-06  0.000862  \n",
       "394  5.716192e-04  0.010098  2.895363e-02  0.002352  \n",
       "395  5.181051e-02  0.002605  1.844755e-02  0.005434  \n",
       "396  1.183563e-01  0.144677  8.426492e-02  0.002816  \n",
       "397  9.390539e-03  0.008192  4.579516e-02  0.042371  \n",
       "398  4.418438e-03  0.015437  1.979349e-02  0.030119  \n",
       "399  1.043461e-05  0.029188  1.572120e-02  0.053802  \n",
       "\n",
       "[400 rows x 10 columns]"
      ]
     },
     "execution_count": 172,
     "metadata": {},
     "output_type": "execute_result"
    }
   ],
   "source": [
    "d = dict() # создаём таблицу вкладов каждого объекта в каждую компоненту\n",
    "for i in range(transformed_data.shape[0]):\n",
    "    l = []\n",
    "    for el in transformed_data[i]:\n",
    "        s = np.sum(transformed_data[i] ** 2)\n",
    "        l.append(el ** 2 / s)\n",
    "    d[i] = l\n",
    "df = pd.DataFrame.from_dict(d, orient=\"index\")\n",
    "df"
   ]
  },
  {
   "cell_type": "code",
   "execution_count": 173,
   "metadata": {},
   "outputs": [
    {
     "data": {
      "text/plain": [
       "197"
      ]
     },
     "execution_count": 173,
     "metadata": {},
     "output_type": "execute_result"
    }
   ],
   "source": [
    "df.iloc[:,0].idxmax() # так можно найти объект, вносящий максимальный вклад в компоненту"
   ]
  },
  {
   "cell_type": "code",
   "execution_count": 155,
   "metadata": {},
   "outputs": [
    {
     "name": "stdout",
     "output_type": "stream",
     "text": [
      "0\n",
      "1\n",
      "2\n",
      "3\n",
      "4\n",
      "5\n",
      "6\n",
      "7\n",
      "8\n",
      "9\n"
     ]
    },
    {
     "data": {
      "image/png": "[encoded data removed]",
      "text/plain": [
       "<Figure size 432x288 with 1 Axes>"
      ]
     },
     "metadata": {
      "needs_background": "light"
     },
     "output_type": "display_data"
    }
   ],
   "source": [
    "list_pc = []\n",
    "for k in range(transformed_data.shape[1]):\n",
    "    print(k)\n",
    "    idx = df.iloc[:,k].idxmax()\n",
    "    list_pc.append(idx)\n",
    "    plt.imshow(data[idx].reshape(image_shape))\n",
    "write_answer_4(list_pc)"
   ]
  },
  {
   "cell_type": "code",
   "execution_count": 174,
   "metadata": {},
   "outputs": [
    {
     "data": {
      "text/plain": [
       "<matplotlib.image.AxesImage at 0x147ef518>"
      ]
     },
     "execution_count": 174,
     "metadata": {},
     "output_type": "execute_result"
    },
    {
     "data": {
      "image/png": "[encoded data removed]",
      "text/plain": [
       "<Figure size 432x288 with 1 Axes>"
      ]
     },
     "metadata": {
      "needs_background": "light"
     },
     "output_type": "display_data"
    }
   ],
   "source": [
    "idx = df.iloc[:,7].idxmax() # самое яркое лицо :)\n",
    "list_pc.append(idx)\n",
    "plt.imshow(data[idx].reshape(image_shape))"
   ]
  },
  {
   "cell_type": "markdown",
   "metadata": {},
   "source": [
    "## Анализ основных недостатков метода главных компонент\n",
    "\n",
    "Рассмотренные выше задачи являются, безусловно, модельными, потому что данные для них были сгенерированы в соответствии с предположениями метода главных компонент. На практике эти предположения, естественно, выполняются далеко не всегда. Рассмотрим типичные ошибки PCA, которые следует иметь в виду перед тем, как его применять."
   ]
  },
  {
   "cell_type": "markdown",
   "metadata": {},
   "source": [
    "### Направления с максимальной дисперсией в данных неортогональны\n",
    "\n",
    "Рассмотрим случай выборки, которая сгенерирована из двух вытянутых нормальных распределений:"
   ]
  },
  {
   "cell_type": "code",
   "execution_count": 175,
   "metadata": {},
   "outputs": [
    {
     "name": "stderr",
     "output_type": "stream",
     "text": [
      "C:\\Anaconda\\lib\\site-packages\\ipykernel_launcher.py:7: RuntimeWarning: covariance is not symmetric positive-semidefinite.\n",
      "  import sys\n"
     ]
    },
    {
     "data": {
      "image/png": "[encoded data removed]",
      "text/plain": [
       "<Figure size 432x288 with 1 Axes>"
      ]
     },
     "metadata": {
      "needs_background": "light"
     },
     "output_type": "display_data"
    }
   ],
   "source": [
    "C1 = np.array([[10,0],[0,0.5]])\n",
    "phi = np.pi/3\n",
    "C2 = np.dot(C1, np.array([[np.cos(phi), np.sin(phi)],\n",
    "                          [-np.sin(phi),np.cos(phi)]]))\n",
    "\n",
    "data = np.vstack([np.random.multivariate_normal(mu, C1, size=50),\n",
    "                  np.random.multivariate_normal(mu, C2, size=50)])\n",
    "plt.scatter(data[:,0], data[:,1])\n",
    "# построим истинные интересующие нас компоненты\n",
    "plt.plot(data[:,0], np.zeros(data[:,0].size), color=\"g\")\n",
    "plt.plot(data[:,0], 3**0.5*data[:,0], color=\"g\")\n",
    "# обучим модель pca и построим главные компоненты\n",
    "model = PCA(n_components=2)\n",
    "model.fit(data)\n",
    "plot_principal_components(data, model, scatter=False, legend=False)\n",
    "c_patch = mpatches.Patch(color='c', label='Principal components')\n",
    "plt.legend(handles=[g_patch, c_patch])\n",
    "plt.draw()"
   ]
  },
  {
   "cell_type": "markdown",
   "metadata": {},
   "source": [
    "В чём проблема, почему pca здесь работает плохо? Ответ прост: интересующие нас компоненты в данных коррелированны между собой (или неортогональны, в зависимости от того, какой терминологией пользоваться). Для поиска подобных преобразований требуются более сложные методы, которые уже выходят за рамки метода главных компонент.\n",
    "\n",
    "Для интересующихся: то, что можно применить непосредственно к выходу метода главных компонент, для получения подобных неортогональных преобразований, называется методами ротации. Почитать о них можно в связи с другим методом уменьшения размерности, который называется Factor Analysis (FA), но ничего не мешает их применять и к главным компонентам."
   ]
  },
  {
   "cell_type": "markdown",
   "metadata": {},
   "source": [
    "### Интересное направление в данных не совпадает с направлением максимальной дисперсии\n",
    "\n",
    "Рассмотрим пример, когда дисперсии не отражают интересующих нас направлений в данных:"
   ]
  },
  {
   "cell_type": "code",
   "execution_count": 187,
   "metadata": {},
   "outputs": [
    {
     "data": {
      "image/png": "[encoded data removed]",
      "text/plain": [
       "<Figure size 432x288 with 1 Axes>"
      ]
     },
     "metadata": {
      "needs_background": "light"
     },
     "output_type": "display_data"
    }
   ],
   "source": [
    "C = np.array([[0.5,0],[0,10]])\n",
    "mu1 = np.array([-2,0])\n",
    "mu2 = np.array([2,0])\n",
    "\n",
    "data = np.vstack([np.random.multivariate_normal(mu1, C, size=50),\n",
    "                  np.random.multivariate_normal(mu2, C, size=50)])\n",
    "plt.scatter(data[:,0], data[:,1])\n",
    "# обучим модель pca и построим главные компоненты\n",
    "model = PCA(n_components=2)\n",
    "model.fit(data)\n",
    "plot_principal_components(data, model)\n",
    "plt.draw()"
   ]
  },
  {
   "cell_type": "markdown",
   "metadata": {},
   "source": [
    "Очевидно, что в данном случае метод главных компонент будет считать вертикальную компоненту более значимой для описания набора данных, чем горизонтальную. \n",
    "\n",
    "Но, например, в случае, когда данные из левого и правого кластера относятся к разным классам, для их линейной разделимости вертикальная компонента является шумовой. Несмотря на это, её метод главных компонент никогда шумовой не признает, и есть вероятность, что отбор признаков с его помощью выкинет из ваших данных значимые для решаемой вами задачи компоненты просто потому, что вдоль них значения имеют низкую дисперсию.\n",
    "\n",
    "Справляться с такими ситуациями могут некоторые другие методы уменьшения размерности данных, например, метод независимых компонент (Independent Component Analysis, ICA)."
   ]
  },
  {
   "cell_type": "code",
   "execution_count": null,
   "metadata": {},
   "outputs": [],
   "source": []
  }
 ],
 "metadata": {
  "kernelspec": {
   "display_name": "Python 3",
   "language": "python",
   "name": "python3"
  },
  "language_info": {
   "codemirror_mode": {
    "name": "ipython",
    "version": 3
   },
   "file_extension": ".py",
   "mimetype": "text/x-python",
   "name": "python",
   "nbconvert_exporter": "python",
   "pygments_lexer": "ipython3",
   "version": "3.7.3"
  }
 },
 "nbformat": 4,
 "nbformat_minor": 1
}
